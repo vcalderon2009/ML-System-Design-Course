{
 "cells": [
  {
   "cell_type": "markdown",
   "id": "5974eb13-2198-45e1-9a78-c6ce586da438",
   "metadata": {},
   "source": [
    "[![Open In Colab](https://colab.research.google.com/assets/colab-badge.svg)](https://colab.research.google.com/github/googlecolab/colabtools/blob/master/notebooks/colab-github-demo.ipynb)\n",
    "\n",
    "# Module 0 - Homework 1 - Twitter Sentiment Analysis\n",
    "\n",
    "**Author** : Victor Calderon\n",
    "\n",
    "\n",
    "## Problem Statement\n",
    "\n",
    "Airline industry had a very hard time post-covid to sustain their business\n",
    "due to a long hault. It is very important for them to make sure they exceed\n",
    "customer expectations. The best way to evaluate performance is customer\n",
    "feedback. You are given a dataset of *airline tweets* from real customers.\n",
    "\n",
    "A sentiment analysis job about the problems of each major U.S. airline.\n",
    "Twitter data was scraped from *February of 2015* and contributors\n",
    "were asked to first classify *positive*, *negative*, and *neutral* tweents,\n",
    "followed by categorizing *negative reasons* (e.g. \"late flight\", or\n",
    "\"rude service\").\n",
    "\n",
    "You will use the text column and sentiment column to create a classification\n",
    "model that classifies a given tween into one of the 3 classes:\n",
    "\n",
    "- Positive\n",
    "- Negative\n",
    "- Neutral\n",
    "\n",
    "## Understanding the dataset\n",
    "\n",
    "Dataset contains many columns, out of which below are most important ones:\n",
    "\n",
    "1. `airline_sentiment` : Defines the sentiment of the tweet\n",
    "2. `negative_reason` : Reason for the negative feedback (if negative).\n",
    "3. `Text` : Tweet text content\n",
    "4. `tweet_location` : Location, from which the tweet was posted.\n",
    "\n",
    "## Steps to perform\n",
    "\n",
    "1. Load dataset: [link][datasetURL]\n",
    "2. Clean, preprocess data and EDA.\n",
    "3. Vectorise columns that contain text.\n",
    "4. Run classification model to classify - *positive*, *negative*, or *neutral*.\n",
    "5. Evaluate model.\n",
    "\n",
    "<!-- Links -->\n",
    "\n",
    "[jupyterNotebook]: https://github.com/hamzafarooq/maven-mlsystem-design-cohort-1/blob/main/Module-0/airline_tweet_sentiment.ipynb\n",
    "\n",
    "[datasetURL]: https://www.kaggle.com/datasets/crowdflower/twitter-airline-sentiment\n",
    "\n",
    "[spacyURL]: https://spacy.io/\n",
    "\n",
    "[kaggleURL]: https://www.kaggle.com/\n",
    "\n",
    "[nltkURL]: https://www.nltk.org/\n"
   ]
  },
  {
   "cell_type": "code",
   "execution_count": null,
   "id": "15040ede-6ac4-4683-9c56-deec6b051caa",
   "metadata": {},
   "outputs": [],
   "source": []
  }
 ],
 "metadata": {
  "kernelspec": {
   "display_name": "Python 3 (ipykernel)",
   "language": "python",
   "name": "python3"
  },
  "language_info": {
   "codemirror_mode": {
    "name": "ipython",
    "version": 3
   },
   "file_extension": ".py",
   "mimetype": "text/x-python",
   "name": "python",
   "nbconvert_exporter": "python",
   "pygments_lexer": "ipython3",
   "version": "3.9.16"
  }
 },
 "nbformat": 4,
 "nbformat_minor": 5
}

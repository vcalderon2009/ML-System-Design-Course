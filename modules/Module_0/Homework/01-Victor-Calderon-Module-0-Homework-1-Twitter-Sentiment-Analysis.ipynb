{
 "cells": [
  {
   "cell_type": "markdown",
   "id": "5974eb13-2198-45e1-9a78-c6ce586da438",
   "metadata": {},
   "source": [
    "[![Open In Colab](https://colab.research.google.com/assets/colab-badge.svg)][collabURL]\n",
    "\n",
    "# Module 0 - Homework 1 - Twitter Sentiment Analysis\n",
    "\n",
    "**Author** : Victor Calderon\n",
    "\n",
    "\n",
    "## Problem Statement\n",
    "\n",
    "Airline industry had a very hard time post-covid to sustain their business\n",
    "due to a long hault. It is very important for them to make sure they exceed\n",
    "customer expectations. The best way to evaluate performance is customer\n",
    "feedback. You are given a dataset of *airline tweets* from real customers.\n",
    "\n",
    "A sentiment analysis job about the problems of each major U.S. airline.\n",
    "Twitter data was scraped from *February of 2015* and contributors\n",
    "were asked to first classify *positive*, *negative*, and *neutral* tweents,\n",
    "followed by categorizing *negative reasons* (e.g. \"late flight\", or\n",
    "\"rude service\").\n",
    "\n",
    "You will use the text column and sentiment column to create a classification\n",
    "model that classifies a given tween into one of the 3 classes:\n",
    "\n",
    "- Positive\n",
    "- Negative\n",
    "- Neutral\n",
    "\n",
    "Source: [Notebook][HomeworkNotebookURL]\n",
    "\n",
    "## Understanding the dataset\n",
    "\n",
    "Dataset contains many columns, out of which below are most important ones:\n",
    "\n",
    "1. `airline_sentiment` : Defines the sentiment of the tweet\n",
    "2. `negative_reason` : Reason for the negative feedback (if negative).\n",
    "3. `Text` : Tweet text content\n",
    "4. `tweet_location` : Location, from which the tweet was posted.\n",
    "\n",
    "## Steps to perform\n",
    "\n",
    "1. Load dataset: [link][datasetURL]\n",
    "2. Clean, preprocess data and EDA.\n",
    "3. Vectorise columns that contain text.\n",
    "4. Run classification model to classify - *positive*, *negative*, or *neutral*.\n",
    "5. Evaluate model.\n",
    "\n",
    "<!-- Links -->\n",
    "\n",
    "[jupyterNotebook]: https://github.com/hamzafarooq/maven-mlsystem-design-cohort-1/blob/main/Module-0/airline_tweet_sentiment.ipynb\n",
    "\n",
    "[datasetURL]: https://www.kaggle.com/datasets/crowdflower/twitter-airline-sentiment\n",
    "\n",
    "[spacyURL]: https://spacy.io/\n",
    "\n",
    "[kaggleURL]: https://www.kaggle.com/\n",
    "\n",
    "[nltkURL]: https://www.nltk.org/\n",
    "\n",
    "[collabURL]: https://colab.research.google.com/github/vcalderon2009/ML-System-Design-Course/blob/main/modules/Module_0/Homework/01-Victor-Calderon-Module-0-Homework-1-Twitter-Sentiment-Analysis.ipynb\n",
    "\n",
    "[HomeworkNotebookURL]: https://github.com/hamzafarooq/maven-mlsystem-design-cohort-1/blob/main/Module-0/airline_tweet_sentiment.ipynb\n",
    "\n",
    "---"
   ]
  },
  {
   "cell_type": "markdown",
   "id": "a02a7912-9c1c-4578-87a7-f33db3ea4a33",
   "metadata": {},
   "source": [
    "## 0.1 Loading modules"
   ]
  },
  {
   "cell_type": "code",
   "execution_count": 1,
   "id": "05c376a5-c957-4642-8868-79af6d5e9728",
   "metadata": {
    "tags": []
   },
   "outputs": [],
   "source": [
    "# Installing 'contextualSpellCheck'\n",
    "!pip install -q contextualSpellCheck"
   ]
  },
  {
   "cell_type": "code",
   "execution_count": 2,
   "id": "fe4c4edd-2b08-4fef-9790-1f4e2700a295",
   "metadata": {
    "tags": []
   },
   "outputs": [],
   "source": [
    "# Installing Kaggle, if necessary\n",
    "!pip install -q kaggle"
   ]
  },
  {
   "cell_type": "code",
   "execution_count": 3,
   "id": "c1c38738-656d-408c-b997-c8bd666a6949",
   "metadata": {
    "tags": []
   },
   "outputs": [],
   "source": [
    "# Installing spacy\n",
    "!pip install -q spacy"
   ]
  },
  {
   "cell_type": "code",
   "execution_count": 4,
   "id": "85285198-8bf1-4f8a-8bdd-659992baab9c",
   "metadata": {
    "tags": []
   },
   "outputs": [],
   "source": [
    "# Installing NLTK\n",
    "!pip install -q nltk"
   ]
  },
  {
   "cell_type": "code",
   "execution_count": 5,
   "id": "add1c4c0-7628-4212-a42d-7a4a7086e205",
   "metadata": {
    "tags": []
   },
   "outputs": [],
   "source": [
    "!pip install -q -r https://raw.githubusercontent.com/vcalderon2009/ML-System-Design-Course/feature/module-0-intro-to-nlp/requirements.txt"
   ]
  },
  {
   "cell_type": "code",
   "execution_count": 6,
   "id": "8d669d67-71b6-4809-9d42-50241eecfb1e",
   "metadata": {
    "tags": []
   },
   "outputs": [
    {
     "name": "stdout",
     "output_type": "stream",
     "text": [
      "Collecting en-core-web-sm==3.5.0\n",
      "  Downloading https://github.com/explosion/spacy-models/releases/download/en_core_web_sm-3.5.0/en_core_web_sm-3.5.0-py3-none-any.whl (12.8 MB)\n",
      "\u001b[2K     \u001b[38;2;114;156;31m━━━━━━━━━━━━━━━━━━━━━━━━━━━━━━━━━━━━━━━\u001b[0m \u001b[32m12.8/12.8 MB\u001b[0m \u001b[31m196.2 kB/s\u001b[0m eta \u001b[36m0:00:00\u001b[0mm eta \u001b[36m0:00:01\u001b[0m[36m0:00:02\u001b[0m\n",
      "\u001b[?25hRequirement already satisfied: spacy<3.6.0,>=3.5.0 in /Users/vfcalderon/opt/miniconda3/envs/ML_System_Design_Course/lib/python3.9/site-packages (from en-core-web-sm==3.5.0) (3.5.2)\n",
      "Requirement already satisfied: spacy-legacy<3.1.0,>=3.0.11 in /Users/vfcalderon/opt/miniconda3/envs/ML_System_Design_Course/lib/python3.9/site-packages (from spacy<3.6.0,>=3.5.0->en-core-web-sm==3.5.0) (3.0.12)\n",
      "Requirement already satisfied: spacy-loggers<2.0.0,>=1.0.0 in /Users/vfcalderon/opt/miniconda3/envs/ML_System_Design_Course/lib/python3.9/site-packages (from spacy<3.6.0,>=3.5.0->en-core-web-sm==3.5.0) (1.0.4)\n",
      "Requirement already satisfied: murmurhash<1.1.0,>=0.28.0 in /Users/vfcalderon/opt/miniconda3/envs/ML_System_Design_Course/lib/python3.9/site-packages (from spacy<3.6.0,>=3.5.0->en-core-web-sm==3.5.0) (1.0.9)\n",
      "Requirement already satisfied: cymem<2.1.0,>=2.0.2 in /Users/vfcalderon/opt/miniconda3/envs/ML_System_Design_Course/lib/python3.9/site-packages (from spacy<3.6.0,>=3.5.0->en-core-web-sm==3.5.0) (2.0.7)\n",
      "Requirement already satisfied: preshed<3.1.0,>=3.0.2 in /Users/vfcalderon/opt/miniconda3/envs/ML_System_Design_Course/lib/python3.9/site-packages (from spacy<3.6.0,>=3.5.0->en-core-web-sm==3.5.0) (3.0.8)\n",
      "Requirement already satisfied: thinc<8.2.0,>=8.1.8 in /Users/vfcalderon/opt/miniconda3/envs/ML_System_Design_Course/lib/python3.9/site-packages (from spacy<3.6.0,>=3.5.0->en-core-web-sm==3.5.0) (8.1.10)\n",
      "Requirement already satisfied: wasabi<1.2.0,>=0.9.1 in /Users/vfcalderon/opt/miniconda3/envs/ML_System_Design_Course/lib/python3.9/site-packages (from spacy<3.6.0,>=3.5.0->en-core-web-sm==3.5.0) (1.1.1)\n",
      "Requirement already satisfied: srsly<3.0.0,>=2.4.3 in /Users/vfcalderon/opt/miniconda3/envs/ML_System_Design_Course/lib/python3.9/site-packages (from spacy<3.6.0,>=3.5.0->en-core-web-sm==3.5.0) (2.4.6)\n",
      "Requirement already satisfied: catalogue<2.1.0,>=2.0.6 in /Users/vfcalderon/opt/miniconda3/envs/ML_System_Design_Course/lib/python3.9/site-packages (from spacy<3.6.0,>=3.5.0->en-core-web-sm==3.5.0) (2.0.8)\n",
      "Requirement already satisfied: typer<0.8.0,>=0.3.0 in /Users/vfcalderon/opt/miniconda3/envs/ML_System_Design_Course/lib/python3.9/site-packages (from spacy<3.6.0,>=3.5.0->en-core-web-sm==3.5.0) (0.7.0)\n",
      "Requirement already satisfied: pathy>=0.10.0 in /Users/vfcalderon/opt/miniconda3/envs/ML_System_Design_Course/lib/python3.9/site-packages (from spacy<3.6.0,>=3.5.0->en-core-web-sm==3.5.0) (0.10.1)\n",
      "Requirement already satisfied: smart-open<7.0.0,>=5.2.1 in /Users/vfcalderon/opt/miniconda3/envs/ML_System_Design_Course/lib/python3.9/site-packages (from spacy<3.6.0,>=3.5.0->en-core-web-sm==3.5.0) (6.3.0)\n",
      "Requirement already satisfied: tqdm<5.0.0,>=4.38.0 in /Users/vfcalderon/opt/miniconda3/envs/ML_System_Design_Course/lib/python3.9/site-packages (from spacy<3.6.0,>=3.5.0->en-core-web-sm==3.5.0) (4.65.0)\n",
      "Requirement already satisfied: numpy>=1.15.0 in /Users/vfcalderon/opt/miniconda3/envs/ML_System_Design_Course/lib/python3.9/site-packages (from spacy<3.6.0,>=3.5.0->en-core-web-sm==3.5.0) (1.24.3)\n",
      "Requirement already satisfied: requests<3.0.0,>=2.13.0 in /Users/vfcalderon/opt/miniconda3/envs/ML_System_Design_Course/lib/python3.9/site-packages (from spacy<3.6.0,>=3.5.0->en-core-web-sm==3.5.0) (2.30.0)\n",
      "Requirement already satisfied: pydantic!=1.8,!=1.8.1,<1.11.0,>=1.7.4 in /Users/vfcalderon/opt/miniconda3/envs/ML_System_Design_Course/lib/python3.9/site-packages (from spacy<3.6.0,>=3.5.0->en-core-web-sm==3.5.0) (1.10.7)\n",
      "Requirement already satisfied: jinja2 in /Users/vfcalderon/opt/miniconda3/envs/ML_System_Design_Course/lib/python3.9/site-packages (from spacy<3.6.0,>=3.5.0->en-core-web-sm==3.5.0) (3.1.2)\n",
      "Requirement already satisfied: setuptools in /Users/vfcalderon/opt/miniconda3/envs/ML_System_Design_Course/lib/python3.9/site-packages (from spacy<3.6.0,>=3.5.0->en-core-web-sm==3.5.0) (67.7.2)\n",
      "Requirement already satisfied: packaging>=20.0 in /Users/vfcalderon/opt/miniconda3/envs/ML_System_Design_Course/lib/python3.9/site-packages (from spacy<3.6.0,>=3.5.0->en-core-web-sm==3.5.0) (23.1)\n",
      "Requirement already satisfied: langcodes<4.0.0,>=3.2.0 in /Users/vfcalderon/opt/miniconda3/envs/ML_System_Design_Course/lib/python3.9/site-packages (from spacy<3.6.0,>=3.5.0->en-core-web-sm==3.5.0) (3.3.0)\n",
      "Requirement already satisfied: typing-extensions>=4.2.0 in /Users/vfcalderon/opt/miniconda3/envs/ML_System_Design_Course/lib/python3.9/site-packages (from pydantic!=1.8,!=1.8.1,<1.11.0,>=1.7.4->spacy<3.6.0,>=3.5.0->en-core-web-sm==3.5.0) (4.5.0)\n",
      "Requirement already satisfied: charset-normalizer<4,>=2 in /Users/vfcalderon/opt/miniconda3/envs/ML_System_Design_Course/lib/python3.9/site-packages (from requests<3.0.0,>=2.13.0->spacy<3.6.0,>=3.5.0->en-core-web-sm==3.5.0) (3.1.0)\n",
      "Requirement already satisfied: idna<4,>=2.5 in /Users/vfcalderon/opt/miniconda3/envs/ML_System_Design_Course/lib/python3.9/site-packages (from requests<3.0.0,>=2.13.0->spacy<3.6.0,>=3.5.0->en-core-web-sm==3.5.0) (3.4)\n",
      "Requirement already satisfied: urllib3<3,>=1.21.1 in /Users/vfcalderon/opt/miniconda3/envs/ML_System_Design_Course/lib/python3.9/site-packages (from requests<3.0.0,>=2.13.0->spacy<3.6.0,>=3.5.0->en-core-web-sm==3.5.0) (2.0.2)\n",
      "Requirement already satisfied: certifi>=2017.4.17 in /Users/vfcalderon/opt/miniconda3/envs/ML_System_Design_Course/lib/python3.9/site-packages (from requests<3.0.0,>=2.13.0->spacy<3.6.0,>=3.5.0->en-core-web-sm==3.5.0) (2023.5.7)\n",
      "Requirement already satisfied: blis<0.8.0,>=0.7.8 in /Users/vfcalderon/opt/miniconda3/envs/ML_System_Design_Course/lib/python3.9/site-packages (from thinc<8.2.0,>=8.1.8->spacy<3.6.0,>=3.5.0->en-core-web-sm==3.5.0) (0.7.9)\n",
      "Requirement already satisfied: confection<1.0.0,>=0.0.1 in /Users/vfcalderon/opt/miniconda3/envs/ML_System_Design_Course/lib/python3.9/site-packages (from thinc<8.2.0,>=8.1.8->spacy<3.6.0,>=3.5.0->en-core-web-sm==3.5.0) (0.0.4)\n",
      "Requirement already satisfied: click<9.0.0,>=7.1.1 in /Users/vfcalderon/opt/miniconda3/envs/ML_System_Design_Course/lib/python3.9/site-packages (from typer<0.8.0,>=0.3.0->spacy<3.6.0,>=3.5.0->en-core-web-sm==3.5.0) (8.1.3)\n",
      "Requirement already satisfied: MarkupSafe>=2.0 in /Users/vfcalderon/opt/miniconda3/envs/ML_System_Design_Course/lib/python3.9/site-packages (from jinja2->spacy<3.6.0,>=3.5.0->en-core-web-sm==3.5.0) (2.1.2)\n",
      "\u001b[38;5;2m✔ Download and installation successful\u001b[0m\n",
      "You can now load the package via spacy.load('en_core_web_sm')\n"
     ]
    }
   ],
   "source": [
    "# Downloading the English language\n",
    "!python -m spacy download en_core_web_sm"
   ]
  },
  {
   "cell_type": "code",
   "execution_count": 7,
   "id": "f93f371e-a8c7-4cb0-8484-69b1b500b8ed",
   "metadata": {
    "tags": []
   },
   "outputs": [
    {
     "name": "stderr",
     "output_type": "stream",
     "text": [
      "/var/folders/lm/rc_j1sgx687267y6tjc4l5600000gn/T/ipykernel_31808/180191467.py:25: MatplotlibDeprecationWarning: The seaborn styles shipped by Matplotlib are deprecated since 3.6, as they no longer correspond to the styles shipped by seaborn. However, they will remain available as 'seaborn-v0_8-<style>'. Alternatively, directly use the seaborn API instead.\n",
      "  plt.style.use(\"seaborn\")\n"
     ]
    }
   ],
   "source": [
    "from pathlib import Path\n",
    "import shutil\n",
    "import os\n",
    "import tempfile\n",
    "import logging\n",
    "from zipfile import ZipFile\n",
    "from typing import Optional\n",
    "import pandas as pd\n",
    "import numpy as np\n",
    "import seaborn as sns\n",
    "import matplotlib.pyplot as plt\n",
    "from sklearn import preprocessing as skp\n",
    "from nltk.tokenize import TweetTokenizer\n",
    "import nltk\n",
    "import string\n",
    "import re\n",
    "import spacy\n",
    "import contextualSpellCheck\n",
    "from sklearn.feature_extraction.text import CountVectorizer, TfidfVectorizer\n",
    "from sklearn.model_selection import train_test_split\n",
    "from sklearn.metrics import precision_recall_curve, f1_score, auc, confusion_matrix, accuracy_score, roc_auc_score, roc_curve\n",
    "from sklearn import svm\n",
    "from sklearn.naive_bayes import MultinomialNB\n",
    "\n",
    "plt.style.use(\"seaborn\")\n",
    "\n",
    "logger = logging.getLogger(__name__)\n",
    "logging.basicConfig(level=logging.INFO)"
   ]
  },
  {
   "cell_type": "markdown",
   "id": "45189856-a823-4258-ab32-0ea46d55ed27",
   "metadata": {},
   "source": [
    "## 0.2 Defining utility functions\n",
    "\n",
    "Before we begin, we'll need to define some utility functions in order to\n",
    "not clutter the notebook."
   ]
  },
  {
   "cell_type": "code",
   "execution_count": 8,
   "id": "c78c7fb7-9e71-4907-bd96-8611ced0c5bf",
   "metadata": {
    "tags": []
   },
   "outputs": [],
   "source": [
    "def create_temp_directory():\n",
    "    \"\"\"\n",
    "    Function to create a temporary directory.\n",
    "    \n",
    "    Returns\n",
    "    ---------\n",
    "    temp_dir : pathlib.Path\n",
    "        Path to the temporary directory\n",
    "    \"\"\"\n",
    "    # Defining a temporary directory\n",
    "    temp_dir = tempfile.mkdtemp()\n",
    "    Path(temp_dir).mkdir(exist_ok=True, parents=True)\n",
    "    \n",
    "    return Path(temp_dir).resolve()"
   ]
  },
  {
   "cell_type": "code",
   "execution_count": 9,
   "id": "84ce2705-cf24-464b-9c08-01d34c641895",
   "metadata": {
    "tags": []
   },
   "outputs": [],
   "source": [
    "def run_system_command(cmd: str):\n",
    "    \"\"\"\n",
    "    Function to run a system command\n",
    "    \"\"\"\n",
    "    os.system(cmd)"
   ]
  },
  {
   "cell_type": "code",
   "execution_count": 10,
   "id": "a66f7ede-0d39-4518-82a6-95cd19471713",
   "metadata": {
    "tags": []
   },
   "outputs": [],
   "source": [
    "def get_kaggle_credentials():\n",
    "    \"\"\"\n",
    "    Function to get the API credentials for interacting with Kaggle.\n",
    "    \"\"\"\n",
    "    # Determining which type of setting to use\n",
    "    try:\n",
    "        from google.colab import drive\n",
    "\n",
    "        COLAB_WORKSPACE = True\n",
    "    except:\n",
    "        COLAB_WORKSPACE = False\n",
    "    #\n",
    "    if COLAB_WORKSPACE:\n",
    "        # Asking the user to upload the `kaggle.json` credentials file\n",
    "        from google.colab import files\n",
    "        files.upload()\n",
    "\n",
    "        # Creating directory to place the credentials\n",
    "        kaggle_output_directory = Path(\"~\").resolve()\n",
    "        kaggle_output_directory.mkdir(exist_ok=True, parents=True)\n",
    "\n",
    "        # Specifying the variable in the system\n",
    "        os.environ[\"KAGGLE_CONFIG_DIR\"] = str(kaggle_output_directory)\n",
    "\n",
    "        # Copying credentials to kaggle directory\n",
    "        kaggle_creds_output_filepath = kaggle_output_directory.joinpath(\n",
    "            \"kaggle.json\"\n",
    "        )\n",
    "        shutil.copy(\"./kaggle.json\", kaggle_creds_output_filepath)\n",
    "\n",
    "        # Changing the permissions of the file\n",
    "        kaggle_creds_output_filepath.chmod(600)\n"
   ]
  },
  {
   "cell_type": "code",
   "execution_count": 11,
   "id": "dd789623-7652-4a6d-9025-af68f2844903",
   "metadata": {
    "tags": []
   },
   "outputs": [],
   "source": [
    "def get_kaggle_dataset_and_load(\n",
    "    username: str,\n",
    "    dataset_name: str,\n",
    "    extension: Optional[str] = \"csv\",\n",
    "    delete_file: Optional[bool] = False,\n",
    ") -> pd.DataFrame:\n",
    "    \"\"\"\n",
    "    Function to download a dataset from Kaggle.\n",
    "\n",
    "    Parameters\n",
    "    -----------\n",
    "    username : str\n",
    "        Username that owns the dataset.\n",
    "\n",
    "    dataset_name : str\n",
    "        Name of the dataset.\n",
    "\n",
    "    extension : str, optional\n",
    "        File extension of the uncompressed dataset.\n",
    "\n",
    "    delete_file : bool, optional\n",
    "        If ``True``, the uncompressed file will be deleted.\n",
    "        This variable is set to ``False`` by default.\n",
    "\n",
    "    Returns\n",
    "    ----------\n",
    "    dataset_df : pandas.DataFrame\n",
    "        Dataset from Kaggle\n",
    "    \"\"\"\n",
    "    # Creating temporary directory\n",
    "    temp_dir = create_temp_directory()\n",
    "    # Downloading the specified dataset\n",
    "    cmd = f\"kaggle datasets download {username}/{dataset_name}\"\n",
    "    logging.info(cmd)\n",
    "    run_system_command(cmd=cmd)\n",
    "    # Find the `.zip` file, move it to the temporary directory and unzip it\n",
    "    dataset_zip_filepath = list(Path(\".\").resolve().glob(\"*.zip\"))[0]\n",
    "    # Decompressing file\n",
    "    with ZipFile(str(dataset_zip_filepath), \"r\") as zfile:\n",
    "        zfile.extractall(path=temp_dir)\n",
    "\n",
    "    # Figuring out the path to the uncompressed file\n",
    "    dataset_filepath = list(temp_dir.rglob(f\"*.{extension}\"))[0]\n",
    "    logger.info(f\"Uncompressed dataset: `{dataset_filepath}` downloaded!\")\n",
    "\n",
    "    # Reading in data\n",
    "    read_func = {\n",
    "        \".csv\": pd.read_csv,\n",
    "        \".parquet\": pd.read_parquet,\n",
    "        \".json\": pd.read_json,\n",
    "    }\n",
    "\n",
    "    file_extension = dataset_filepath.suffix\n",
    "\n",
    "    dataset_df = read_func[file_extension](dataset_filepath)\n",
    "\n",
    "    # Deleting dataset\n",
    "    logger.info(f\"dataset_zip_filepath: {dataset_zip_filepath}\")\n",
    "    dataset_zip_filepath.unlink()\n",
    "\n",
    "    if delete_file:\n",
    "        dataset_filepath.unlink()\n",
    "\n",
    "    return dataset_df\n"
   ]
  },
  {
   "cell_type": "markdown",
   "id": "6766e7b0-acac-4da4-81d7-81acf03c4a84",
   "metadata": {},
   "source": [
    "---"
   ]
  },
  {
   "cell_type": "markdown",
   "id": "7e16281a-d5b5-49bb-a398-49ca4555dbd0",
   "metadata": {},
   "source": [
    "## 1. Downloading and loading the Kaggle dataset\n",
    "\n",
    "The first step is to download the Kaggle dataset. In order to do this, we will have to use the\n",
    "Kaggle API keys / credentials to download the Kaggle dataset directly."
   ]
  },
  {
   "cell_type": "code",
   "execution_count": 12,
   "id": "b227f7a5-fa1b-4fbf-8949-2a842b013c13",
   "metadata": {
    "tags": []
   },
   "outputs": [],
   "source": [
    "# Getting Kaggle Credentials\n",
    "get_kaggle_credentials()"
   ]
  },
  {
   "cell_type": "code",
   "execution_count": 13,
   "id": "542984d6-91ed-4c44-94c5-c9272b538eba",
   "metadata": {
    "tags": []
   },
   "outputs": [
    {
     "name": "stderr",
     "output_type": "stream",
     "text": [
      "INFO:root:kaggle datasets download crowdflower/twitter-airline-sentiment\n"
     ]
    },
    {
     "name": "stdout",
     "output_type": "stream",
     "text": [
      "Downloading twitter-airline-sentiment.zip to /Users/vfcalderon/Documents/Repositories/Courses/ML-System-Design-Course/modules/Module_0/Homework\n"
     ]
    },
    {
     "name": "stderr",
     "output_type": "stream",
     "text": [
      "100%|██████████| 2.55M/2.55M [00:00<00:00, 4.56MB/s]\n",
      "INFO:__main__:Uncompressed dataset: `/private/var/folders/lm/rc_j1sgx687267y6tjc4l5600000gn/T/tmp3y8gya5e/Tweets.csv` downloaded!\n"
     ]
    },
    {
     "name": "stdout",
     "output_type": "stream",
     "text": [
      "\n"
     ]
    },
    {
     "name": "stderr",
     "output_type": "stream",
     "text": [
      "INFO:__main__:dataset_zip_filepath: /Users/vfcalderon/Documents/Repositories/Courses/ML-System-Design-Course/modules/Module_0/Homework/twitter-airline-sentiment.zip\n"
     ]
    }
   ],
   "source": [
    "# Defining the username and name of the dataset\n",
    "KAGGLE_DATASET_USERNAME = \"crowdflower\"\n",
    "KAGGLE_DATASET_NAME = \"twitter-airline-sentiment\"\n",
    "\n",
    "dataset_df = get_kaggle_dataset_and_load(\n",
    "    username=KAGGLE_DATASET_USERNAME,\n",
    "    dataset_name=KAGGLE_DATASET_NAME,\n",
    ")\n"
   ]
  },
  {
   "cell_type": "code",
   "execution_count": 14,
   "id": "020e61b2-e30b-42c3-b247-1df976eb6428",
   "metadata": {
    "tags": []
   },
   "outputs": [
    {
     "data": {
      "text/html": [
       "<div>\n",
       "<style scoped>\n",
       "    .dataframe tbody tr th:only-of-type {\n",
       "        vertical-align: middle;\n",
       "    }\n",
       "\n",
       "    .dataframe tbody tr th {\n",
       "        vertical-align: top;\n",
       "    }\n",
       "\n",
       "    .dataframe thead th {\n",
       "        text-align: right;\n",
       "    }\n",
       "</style>\n",
       "<table border=\"1\" class=\"dataframe\">\n",
       "  <thead>\n",
       "    <tr style=\"text-align: right;\">\n",
       "      <th></th>\n",
       "      <th>tweet_id</th>\n",
       "      <th>airline_sentiment</th>\n",
       "      <th>airline_sentiment_confidence</th>\n",
       "      <th>negativereason</th>\n",
       "      <th>negativereason_confidence</th>\n",
       "      <th>airline</th>\n",
       "      <th>airline_sentiment_gold</th>\n",
       "      <th>name</th>\n",
       "      <th>negativereason_gold</th>\n",
       "      <th>retweet_count</th>\n",
       "      <th>text</th>\n",
       "      <th>tweet_coord</th>\n",
       "      <th>tweet_created</th>\n",
       "      <th>tweet_location</th>\n",
       "      <th>user_timezone</th>\n",
       "    </tr>\n",
       "  </thead>\n",
       "  <tbody>\n",
       "    <tr>\n",
       "      <th>0</th>\n",
       "      <td>570306133677760513</td>\n",
       "      <td>neutral</td>\n",
       "      <td>1.0000</td>\n",
       "      <td>NaN</td>\n",
       "      <td>NaN</td>\n",
       "      <td>Virgin America</td>\n",
       "      <td>NaN</td>\n",
       "      <td>cairdin</td>\n",
       "      <td>NaN</td>\n",
       "      <td>0</td>\n",
       "      <td>@VirginAmerica What @dhepburn said.</td>\n",
       "      <td>NaN</td>\n",
       "      <td>2015-02-24 11:35:52 -0800</td>\n",
       "      <td>NaN</td>\n",
       "      <td>Eastern Time (US &amp; Canada)</td>\n",
       "    </tr>\n",
       "    <tr>\n",
       "      <th>1</th>\n",
       "      <td>570301130888122368</td>\n",
       "      <td>positive</td>\n",
       "      <td>0.3486</td>\n",
       "      <td>NaN</td>\n",
       "      <td>0.0000</td>\n",
       "      <td>Virgin America</td>\n",
       "      <td>NaN</td>\n",
       "      <td>jnardino</td>\n",
       "      <td>NaN</td>\n",
       "      <td>0</td>\n",
       "      <td>@VirginAmerica plus you've added commercials t...</td>\n",
       "      <td>NaN</td>\n",
       "      <td>2015-02-24 11:15:59 -0800</td>\n",
       "      <td>NaN</td>\n",
       "      <td>Pacific Time (US &amp; Canada)</td>\n",
       "    </tr>\n",
       "    <tr>\n",
       "      <th>2</th>\n",
       "      <td>570301083672813571</td>\n",
       "      <td>neutral</td>\n",
       "      <td>0.6837</td>\n",
       "      <td>NaN</td>\n",
       "      <td>NaN</td>\n",
       "      <td>Virgin America</td>\n",
       "      <td>NaN</td>\n",
       "      <td>yvonnalynn</td>\n",
       "      <td>NaN</td>\n",
       "      <td>0</td>\n",
       "      <td>@VirginAmerica I didn't today... Must mean I n...</td>\n",
       "      <td>NaN</td>\n",
       "      <td>2015-02-24 11:15:48 -0800</td>\n",
       "      <td>Lets Play</td>\n",
       "      <td>Central Time (US &amp; Canada)</td>\n",
       "    </tr>\n",
       "    <tr>\n",
       "      <th>3</th>\n",
       "      <td>570301031407624196</td>\n",
       "      <td>negative</td>\n",
       "      <td>1.0000</td>\n",
       "      <td>Bad Flight</td>\n",
       "      <td>0.7033</td>\n",
       "      <td>Virgin America</td>\n",
       "      <td>NaN</td>\n",
       "      <td>jnardino</td>\n",
       "      <td>NaN</td>\n",
       "      <td>0</td>\n",
       "      <td>@VirginAmerica it's really aggressive to blast...</td>\n",
       "      <td>NaN</td>\n",
       "      <td>2015-02-24 11:15:36 -0800</td>\n",
       "      <td>NaN</td>\n",
       "      <td>Pacific Time (US &amp; Canada)</td>\n",
       "    </tr>\n",
       "    <tr>\n",
       "      <th>4</th>\n",
       "      <td>570300817074462722</td>\n",
       "      <td>negative</td>\n",
       "      <td>1.0000</td>\n",
       "      <td>Can't Tell</td>\n",
       "      <td>1.0000</td>\n",
       "      <td>Virgin America</td>\n",
       "      <td>NaN</td>\n",
       "      <td>jnardino</td>\n",
       "      <td>NaN</td>\n",
       "      <td>0</td>\n",
       "      <td>@VirginAmerica and it's a really big bad thing...</td>\n",
       "      <td>NaN</td>\n",
       "      <td>2015-02-24 11:14:45 -0800</td>\n",
       "      <td>NaN</td>\n",
       "      <td>Pacific Time (US &amp; Canada)</td>\n",
       "    </tr>\n",
       "  </tbody>\n",
       "</table>\n",
       "</div>"
      ],
      "text/plain": [
       "             tweet_id airline_sentiment  airline_sentiment_confidence   \n",
       "0  570306133677760513           neutral                        1.0000  \\\n",
       "1  570301130888122368          positive                        0.3486   \n",
       "2  570301083672813571           neutral                        0.6837   \n",
       "3  570301031407624196          negative                        1.0000   \n",
       "4  570300817074462722          negative                        1.0000   \n",
       "\n",
       "  negativereason  negativereason_confidence         airline   \n",
       "0            NaN                        NaN  Virgin America  \\\n",
       "1            NaN                     0.0000  Virgin America   \n",
       "2            NaN                        NaN  Virgin America   \n",
       "3     Bad Flight                     0.7033  Virgin America   \n",
       "4     Can't Tell                     1.0000  Virgin America   \n",
       "\n",
       "  airline_sentiment_gold        name negativereason_gold  retweet_count   \n",
       "0                    NaN     cairdin                 NaN              0  \\\n",
       "1                    NaN    jnardino                 NaN              0   \n",
       "2                    NaN  yvonnalynn                 NaN              0   \n",
       "3                    NaN    jnardino                 NaN              0   \n",
       "4                    NaN    jnardino                 NaN              0   \n",
       "\n",
       "                                                text tweet_coord   \n",
       "0                @VirginAmerica What @dhepburn said.         NaN  \\\n",
       "1  @VirginAmerica plus you've added commercials t...         NaN   \n",
       "2  @VirginAmerica I didn't today... Must mean I n...         NaN   \n",
       "3  @VirginAmerica it's really aggressive to blast...         NaN   \n",
       "4  @VirginAmerica and it's a really big bad thing...         NaN   \n",
       "\n",
       "               tweet_created tweet_location               user_timezone  \n",
       "0  2015-02-24 11:35:52 -0800            NaN  Eastern Time (US & Canada)  \n",
       "1  2015-02-24 11:15:59 -0800            NaN  Pacific Time (US & Canada)  \n",
       "2  2015-02-24 11:15:48 -0800      Lets Play  Central Time (US & Canada)  \n",
       "3  2015-02-24 11:15:36 -0800            NaN  Pacific Time (US & Canada)  \n",
       "4  2015-02-24 11:14:45 -0800            NaN  Pacific Time (US & Canada)  "
      ]
     },
     "execution_count": 14,
     "metadata": {},
     "output_type": "execute_result"
    }
   ],
   "source": [
    "dataset_df.head()"
   ]
  },
  {
   "cell_type": "markdown",
   "id": "4056b2c1-1f58-4b66-905d-f8faf74cc457",
   "metadata": {},
   "source": [
    "---"
   ]
  },
  {
   "cell_type": "markdown",
   "id": "6591af7e-4614-41c2-bd46-5724990f3d99",
   "metadata": {},
   "source": [
    "## 2. Clean, preprocess, and EDA\n",
    "\n",
    "This section covers the steps for cleaning the data, run preprocessing tasks, as well as the EDA of the dataset."
   ]
  },
  {
   "cell_type": "markdown",
   "id": "a4485adf-208d-4707-93bb-9d396815ffd6",
   "metadata": {},
   "source": [
    "### 2.1 Basic EDA\n",
    "\n",
    "In this section, we'll cover the following EDA tasks:\n",
    "\n",
    "- Shape of the dataset\n",
    "- Null and duplicated values\n",
    "- Distribution of the `airline_sentiment`.\n",
    "- Check the confidence values (per type) for each type `airline_sentiment_confidence`.\n",
    "- Look at what the *negative* reasons were for having a negative sentiment.\n",
    "\n",
    "Extra:\n",
    "- Look at whether or not some airlines have more positive or negative tweets, and possibly by time created.\n",
    "- Number of tweets per season, per year, etc.\n",
    "- Spikes over Time (after converting to UTC) time, i.e. where there any specific times, at which airlines\n",
    "  failed their customers."
   ]
  },
  {
   "cell_type": "markdown",
   "id": "c9f350bd-0aec-4c8c-a65a-060e99b1f95a",
   "metadata": {},
   "source": [
    "#### 2.1.1 - Shape and content of the dataset"
   ]
  },
  {
   "cell_type": "code",
   "execution_count": 15,
   "id": "47221fde-913d-4a67-8516-b5d4cf594da1",
   "metadata": {
    "tags": []
   },
   "outputs": [
    {
     "name": "stderr",
     "output_type": "stream",
     "text": [
      "INFO:__main__:There are '14640' rows and '15' columns in the dataset.\n"
     ]
    }
   ],
   "source": [
    "logger.info(\"There are '{}' rows and '{}' columns in the dataset.\".format(*dataset_df.shape))"
   ]
  },
  {
   "cell_type": "markdown",
   "id": "bf522ba6-9803-4138-88a2-ef9cc240adbd",
   "metadata": {},
   "source": [
    "In terms of the data, we can see that the set of columns of the datasets is:"
   ]
  },
  {
   "cell_type": "code",
   "execution_count": 16,
   "id": "3dde59d7-c5bb-4dfc-b97e-cad681d88aac",
   "metadata": {
    "tags": []
   },
   "outputs": [
    {
     "name": "stderr",
     "output_type": "stream",
     "text": [
      "INFO:__main__:Set of columns: \n",
      "\ttweet_id\n",
      "\tairline_sentiment\n",
      "\tairline_sentiment_confidence\n",
      "\tnegativereason\n",
      "\tnegativereason_confidence\n",
      "\tairline\n",
      "\tairline_sentiment_gold\n",
      "\tname\n",
      "\tnegativereason_gold\n",
      "\tretweet_count\n",
      "\ttext\n",
      "\ttweet_coord\n",
      "\ttweet_created\n",
      "\ttweet_location\n",
      "\tuser_timezone\n"
     ]
    }
   ],
   "source": [
    "logger.info(\"Set of columns: \\n\\t{}\".format('\\n\\t'.join(dataset_df.columns.tolist())))"
   ]
  },
  {
   "cell_type": "markdown",
   "id": "2b6faf99-1818-4c50-9113-d7c37896112c",
   "metadata": {},
   "source": [
    "#### 2.1.2 Null and duplicated values in the dataset"
   ]
  },
  {
   "cell_type": "markdown",
   "id": "35f95c6a-a7f6-47a8-972d-ba75bd933046",
   "metadata": {},
   "source": [
    "Another aspect that we can look at is the number of `Null` values for each column. This will indicate if the data is rather\n",
    "sparse and could determine how the data is handled."
   ]
  },
  {
   "cell_type": "code",
   "execution_count": 17,
   "id": "04f130a9-d1db-4fc2-b302-a9cef2c8099d",
   "metadata": {
    "tags": []
   },
   "outputs": [
    {
     "data": {
      "text/plain": [
       "14640"
      ]
     },
     "execution_count": 17,
     "metadata": {},
     "output_type": "execute_result"
    }
   ],
   "source": [
    "len(dataset_df)"
   ]
  },
  {
   "cell_type": "code",
   "execution_count": 18,
   "id": "f1a458e3-4470-4510-a215-84f2c16a7367",
   "metadata": {
    "tags": []
   },
   "outputs": [
    {
     "data": {
      "text/html": [
       "<div>\n",
       "<style scoped>\n",
       "    .dataframe tbody tr th:only-of-type {\n",
       "        vertical-align: middle;\n",
       "    }\n",
       "\n",
       "    .dataframe tbody tr th {\n",
       "        vertical-align: top;\n",
       "    }\n",
       "\n",
       "    .dataframe thead th {\n",
       "        text-align: right;\n",
       "    }\n",
       "</style>\n",
       "<table border=\"1\" class=\"dataframe\">\n",
       "  <thead>\n",
       "    <tr style=\"text-align: right;\">\n",
       "      <th></th>\n",
       "      <th>Nulls</th>\n",
       "      <th>Fraction_Nulls (%)</th>\n",
       "    </tr>\n",
       "  </thead>\n",
       "  <tbody>\n",
       "    <tr>\n",
       "      <th>tweet_id</th>\n",
       "      <td>0</td>\n",
       "      <td>0.00</td>\n",
       "    </tr>\n",
       "    <tr>\n",
       "      <th>airline_sentiment</th>\n",
       "      <td>0</td>\n",
       "      <td>0.00</td>\n",
       "    </tr>\n",
       "    <tr>\n",
       "      <th>airline_sentiment_confidence</th>\n",
       "      <td>0</td>\n",
       "      <td>0.00</td>\n",
       "    </tr>\n",
       "    <tr>\n",
       "      <th>airline</th>\n",
       "      <td>0</td>\n",
       "      <td>0.00</td>\n",
       "    </tr>\n",
       "    <tr>\n",
       "      <th>name</th>\n",
       "      <td>0</td>\n",
       "      <td>0.00</td>\n",
       "    </tr>\n",
       "    <tr>\n",
       "      <th>retweet_count</th>\n",
       "      <td>0</td>\n",
       "      <td>0.00</td>\n",
       "    </tr>\n",
       "    <tr>\n",
       "      <th>text</th>\n",
       "      <td>0</td>\n",
       "      <td>0.00</td>\n",
       "    </tr>\n",
       "    <tr>\n",
       "      <th>tweet_created</th>\n",
       "      <td>0</td>\n",
       "      <td>0.00</td>\n",
       "    </tr>\n",
       "    <tr>\n",
       "      <th>negativereason_confidence</th>\n",
       "      <td>4118</td>\n",
       "      <td>28.13</td>\n",
       "    </tr>\n",
       "    <tr>\n",
       "      <th>tweet_location</th>\n",
       "      <td>4733</td>\n",
       "      <td>32.33</td>\n",
       "    </tr>\n",
       "    <tr>\n",
       "      <th>user_timezone</th>\n",
       "      <td>4820</td>\n",
       "      <td>32.92</td>\n",
       "    </tr>\n",
       "    <tr>\n",
       "      <th>negativereason</th>\n",
       "      <td>5462</td>\n",
       "      <td>37.31</td>\n",
       "    </tr>\n",
       "    <tr>\n",
       "      <th>tweet_coord</th>\n",
       "      <td>13621</td>\n",
       "      <td>93.04</td>\n",
       "    </tr>\n",
       "    <tr>\n",
       "      <th>airline_sentiment_gold</th>\n",
       "      <td>14600</td>\n",
       "      <td>99.73</td>\n",
       "    </tr>\n",
       "    <tr>\n",
       "      <th>negativereason_gold</th>\n",
       "      <td>14608</td>\n",
       "      <td>99.78</td>\n",
       "    </tr>\n",
       "  </tbody>\n",
       "</table>\n",
       "</div>"
      ],
      "text/plain": [
       "                              Nulls  Fraction_Nulls (%)\n",
       "tweet_id                          0                0.00\n",
       "airline_sentiment                 0                0.00\n",
       "airline_sentiment_confidence      0                0.00\n",
       "airline                           0                0.00\n",
       "name                              0                0.00\n",
       "retweet_count                     0                0.00\n",
       "text                              0                0.00\n",
       "tweet_created                     0                0.00\n",
       "negativereason_confidence      4118               28.13\n",
       "tweet_location                 4733               32.33\n",
       "user_timezone                  4820               32.92\n",
       "negativereason                 5462               37.31\n",
       "tweet_coord                   13621               93.04\n",
       "airline_sentiment_gold        14600               99.73\n",
       "negativereason_gold           14608               99.78"
      ]
     },
     "execution_count": 18,
     "metadata": {},
     "output_type": "execute_result"
    }
   ],
   "source": [
    "dataset_null_df = dataset_df.isnull().sum().to_frame().rename(columns={0:\"Nulls\"}).sort_values(\"Nulls\")\n",
    "dataset_null_df[\"Fraction_Nulls (%)\"] = np.round(100*dataset_null_df[\"Nulls\"] / len(dataset_df), 2)\n",
    "\n",
    "dataset_null_df"
   ]
  },
  {
   "cell_type": "markdown",
   "id": "2c5f8a69-7cb3-4773-84b3-9cb084a3917d",
   "metadata": {},
   "source": [
    "Let's look at the how many duplicated entries we have in the dataset:"
   ]
  },
  {
   "cell_type": "code",
   "execution_count": 19,
   "id": "e6ed4be9-fec7-4421-817c-87ec358e7512",
   "metadata": {
    "tags": []
   },
   "outputs": [
    {
     "name": "stderr",
     "output_type": "stream",
     "text": [
      "INFO:__main__:There is a total of '36' duplicated entries in the dataset\n"
     ]
    }
   ],
   "source": [
    "logger.info(f\"There is a total of '{dataset_df.duplicated().sum()}' duplicated entries in the dataset\")"
   ]
  },
  {
   "cell_type": "markdown",
   "id": "2de7a6bb-2a95-4438-9bcd-2bd662cc55f7",
   "metadata": {},
   "source": [
    "#### 2.1.3 Distribution of the airlines"
   ]
  },
  {
   "cell_type": "markdown",
   "id": "240e8f51-ce75-465d-bd15-116fac3d6059",
   "metadata": {},
   "source": [
    "Another aspect that we can look at is the distribution of tweets as function of airline:"
   ]
  },
  {
   "cell_type": "code",
   "execution_count": 20,
   "id": "a7dbb0e6-eefd-4193-858b-02f3b142c65a",
   "metadata": {
    "tags": []
   },
   "outputs": [
    {
     "data": {
      "text/plain": [
       "<Axes: xlabel='airline'>"
      ]
     },
     "execution_count": 20,
     "metadata": {},
     "output_type": "execute_result"
    },
    {
     "data": {
      "image/png": "[encoded data removed]",
      "text/plain": [
       "<Figure size 1200x800 with 1 Axes>"
      ]
     },
     "metadata": {},
     "output_type": "display_data"
    }
   ],
   "source": [
    "dataset_df[\"airline\"].value_counts(dropna=True).plot(kind=\"bar\", figsize=(12, 8))"
   ]
  },
  {
   "cell_type": "markdown",
   "id": "84d6aec8-91a0-4d0b-9e57-07e4259e9f7e",
   "metadata": {},
   "source": [
    "We can go a step further and break it down per sentiment type for each airline:"
   ]
  },
  {
   "cell_type": "code",
   "execution_count": 21,
   "id": "6840f260-1621-4838-b867-fa4cc1c85e9e",
   "metadata": {
    "tags": []
   },
   "outputs": [
    {
     "data": {
      "text/plain": [
       "<Axes: xlabel='airline'>"
      ]
     },
     "execution_count": 21,
     "metadata": {},
     "output_type": "execute_result"
    },
    {
     "data": {
      "image/png": "[encoded data removed]",
      "text/plain": [
       "<Figure size 1200x800 with 1 Axes>"
      ]
     },
     "metadata": {},
     "output_type": "display_data"
    }
   ],
   "source": [
    "# Extracting the number of tweets per airline and categorizing them by their sentiment\n",
    "dataset_df.groupby(by=[\"airline\", \"airline_sentiment\"]).size().unstack().plot(kind=\"bar\", stacked=True, figsize=(12, 8))"
   ]
  },
  {
   "cell_type": "markdown",
   "id": "1fc57e0b-a7a2-48e8-b240-4102d218d8b7",
   "metadata": {},
   "source": [
    "#### 2.1.4 Sentiment confidence as a function of sentiment"
   ]
  },
  {
   "cell_type": "markdown",
   "id": "8f767831-7f14-474f-9821-0b81a19f4d10",
   "metadata": {},
   "source": [
    "Similarly, we can take a look at the distribution of the sentiment of each tweet, and check for any imbalances in the dataset:"
   ]
  },
  {
   "cell_type": "code",
   "execution_count": 22,
   "id": "c41f3e32-af00-42d0-8da7-9924a1695c26",
   "metadata": {
    "tags": []
   },
   "outputs": [
    {
     "data": {
      "text/plain": [
       "<Axes: xlabel='airline_sentiment_confidence', ylabel='Density'>"
      ]
     },
     "execution_count": 22,
     "metadata": {},
     "output_type": "execute_result"
    },
    {
     "data": {
      "image/png": "[encoded data removed]",
      "text/plain": [
       "<Figure size 800x550 with 1 Axes>"
      ]
     },
     "metadata": {},
     "output_type": "display_data"
    }
   ],
   "source": [
    "sns.kdeplot(data=dataset_df, x=\"airline_sentiment_confidence\", hue=\"airline_sentiment\")"
   ]
  },
  {
   "cell_type": "markdown",
   "id": "b781b53c-c2db-49cf-9ca6-6843e96a8b7a",
   "metadata": {},
   "source": [
    "The previous image shows the distribution of the `airline_sentiment` and it shows that there the confidence\n",
    "values of the sentiment for each tweet is for the most part larger than `50%` for all types of sentiment."
   ]
  },
  {
   "cell_type": "markdown",
   "id": "8e51f171-a1cc-461a-9de6-4277a47708e9",
   "metadata": {},
   "source": [
    "#### 2.1.5 Reasons for why airlines got a bad review.\n",
    "\n",
    "It is important to understand the reason behind any review. We can easily look at the `negativereason` column\n",
    "and determine what the top reasons were for people to leave a bad review."
   ]
  },
  {
   "cell_type": "code",
   "execution_count": 23,
   "id": "dd3e397c-f06f-4117-b019-85f9afde07b0",
   "metadata": {
    "tags": []
   },
   "outputs": [
    {
     "data": {
      "text/html": [
       "<div>\n",
       "<style scoped>\n",
       "    .dataframe tbody tr th:only-of-type {\n",
       "        vertical-align: middle;\n",
       "    }\n",
       "\n",
       "    .dataframe tbody tr th {\n",
       "        vertical-align: top;\n",
       "    }\n",
       "\n",
       "    .dataframe thead th {\n",
       "        text-align: right;\n",
       "    }\n",
       "</style>\n",
       "<table border=\"1\" class=\"dataframe\">\n",
       "  <thead>\n",
       "    <tr style=\"text-align: right;\">\n",
       "      <th></th>\n",
       "      <th>negativereason_confidence</th>\n",
       "    </tr>\n",
       "  </thead>\n",
       "  <tbody>\n",
       "    <tr>\n",
       "      <th>count</th>\n",
       "      <td>10522.000000</td>\n",
       "    </tr>\n",
       "    <tr>\n",
       "      <th>mean</th>\n",
       "      <td>0.638298</td>\n",
       "    </tr>\n",
       "    <tr>\n",
       "      <th>std</th>\n",
       "      <td>0.330440</td>\n",
       "    </tr>\n",
       "    <tr>\n",
       "      <th>min</th>\n",
       "      <td>0.000000</td>\n",
       "    </tr>\n",
       "    <tr>\n",
       "      <th>25%</th>\n",
       "      <td>0.360600</td>\n",
       "    </tr>\n",
       "    <tr>\n",
       "      <th>50%</th>\n",
       "      <td>0.670600</td>\n",
       "    </tr>\n",
       "    <tr>\n",
       "      <th>75%</th>\n",
       "      <td>1.000000</td>\n",
       "    </tr>\n",
       "    <tr>\n",
       "      <th>max</th>\n",
       "      <td>1.000000</td>\n",
       "    </tr>\n",
       "  </tbody>\n",
       "</table>\n",
       "</div>"
      ],
      "text/plain": [
       "       negativereason_confidence\n",
       "count               10522.000000\n",
       "mean                    0.638298\n",
       "std                     0.330440\n",
       "min                     0.000000\n",
       "25%                     0.360600\n",
       "50%                     0.670600\n",
       "75%                     1.000000\n",
       "max                     1.000000"
      ]
     },
     "execution_count": 23,
     "metadata": {},
     "output_type": "execute_result"
    }
   ],
   "source": [
    "# Understanding the metrics for each tweet.\n",
    "dataset_df[\"negativereason_confidence\"].describe().to_frame()"
   ]
  },
  {
   "cell_type": "markdown",
   "id": "babce508-0614-4e6b-be9e-82b1f0e33803",
   "metadata": {},
   "source": [
    "Let's also look at the fractions for each negative reason:"
   ]
  },
  {
   "cell_type": "code",
   "execution_count": 24,
   "id": "5b4594aa-bb83-43fd-8c5a-4262f71634e9",
   "metadata": {
    "tags": []
   },
   "outputs": [
    {
     "data": {
      "text/html": [
       "<div>\n",
       "<style scoped>\n",
       "    .dataframe tbody tr th:only-of-type {\n",
       "        vertical-align: middle;\n",
       "    }\n",
       "\n",
       "    .dataframe tbody tr th {\n",
       "        vertical-align: top;\n",
       "    }\n",
       "\n",
       "    .dataframe thead th {\n",
       "        text-align: right;\n",
       "    }\n",
       "</style>\n",
       "<table border=\"1\" class=\"dataframe\">\n",
       "  <thead>\n",
       "    <tr style=\"text-align: right;\">\n",
       "      <th></th>\n",
       "      <th>count</th>\n",
       "      <th>Frac (%)</th>\n",
       "    </tr>\n",
       "    <tr>\n",
       "      <th>negativereason</th>\n",
       "      <th></th>\n",
       "      <th></th>\n",
       "    </tr>\n",
       "  </thead>\n",
       "  <tbody>\n",
       "    <tr>\n",
       "      <th>Customer Service Issue</th>\n",
       "      <td>2910</td>\n",
       "      <td>19.877049</td>\n",
       "    </tr>\n",
       "    <tr>\n",
       "      <th>Late Flight</th>\n",
       "      <td>1665</td>\n",
       "      <td>11.372951</td>\n",
       "    </tr>\n",
       "    <tr>\n",
       "      <th>Can't Tell</th>\n",
       "      <td>1190</td>\n",
       "      <td>8.128415</td>\n",
       "    </tr>\n",
       "    <tr>\n",
       "      <th>Cancelled Flight</th>\n",
       "      <td>847</td>\n",
       "      <td>5.785519</td>\n",
       "    </tr>\n",
       "    <tr>\n",
       "      <th>Lost Luggage</th>\n",
       "      <td>724</td>\n",
       "      <td>4.945355</td>\n",
       "    </tr>\n",
       "    <tr>\n",
       "      <th>Bad Flight</th>\n",
       "      <td>580</td>\n",
       "      <td>3.961749</td>\n",
       "    </tr>\n",
       "    <tr>\n",
       "      <th>Flight Booking Problems</th>\n",
       "      <td>529</td>\n",
       "      <td>3.613388</td>\n",
       "    </tr>\n",
       "    <tr>\n",
       "      <th>Flight Attendant Complaints</th>\n",
       "      <td>481</td>\n",
       "      <td>3.285519</td>\n",
       "    </tr>\n",
       "    <tr>\n",
       "      <th>longlines</th>\n",
       "      <td>178</td>\n",
       "      <td>1.215847</td>\n",
       "    </tr>\n",
       "    <tr>\n",
       "      <th>Damaged Luggage</th>\n",
       "      <td>74</td>\n",
       "      <td>0.505464</td>\n",
       "    </tr>\n",
       "  </tbody>\n",
       "</table>\n",
       "</div>"
      ],
      "text/plain": [
       "                             count   Frac (%)\n",
       "negativereason                               \n",
       "Customer Service Issue        2910  19.877049\n",
       "Late Flight                   1665  11.372951\n",
       "Can't Tell                    1190   8.128415\n",
       "Cancelled Flight               847   5.785519\n",
       "Lost Luggage                   724   4.945355\n",
       "Bad Flight                     580   3.961749\n",
       "Flight Booking Problems        529   3.613388\n",
       "Flight Attendant Complaints    481   3.285519\n",
       "longlines                      178   1.215847\n",
       "Damaged Luggage                 74   0.505464"
      ]
     },
     "execution_count": 24,
     "metadata": {},
     "output_type": "execute_result"
    }
   ],
   "source": [
    "negative_reason_dataset = dataset_df[\"negativereason\"].value_counts(dropna=True).to_frame()\n",
    "negative_reason_dataset[\"Frac (%)\"] = 100 * negative_reason_dataset / len(dataset_df)\n",
    "\n",
    "negative_reason_dataset"
   ]
  },
  {
   "cell_type": "markdown",
   "id": "4f23aa80-6627-4049-8a66-586d1045e4d1",
   "metadata": {},
   "source": [
    "One takeaway from this result is that at least 1/3 of the negative reviews are due to:\n",
    "- Customer Service Issue\n",
    "- Late Flight\n",
    "\n",
    "This is better shown in the following figure:"
   ]
  },
  {
   "cell_type": "code",
   "execution_count": 25,
   "id": "4255bbd0-6df4-4308-ae00-9d4b017a45d2",
   "metadata": {
    "tags": []
   },
   "outputs": [
    {
     "data": {
      "text/plain": [
       "<Axes: xlabel='negativereason'>"
      ]
     },
     "execution_count": 25,
     "metadata": {},
     "output_type": "execute_result"
    },
    {
     "data": {
      "image/png": "[encoded data removed]",
      "text/plain": [
       "<Figure size 1200x800 with 1 Axes>"
      ]
     },
     "metadata": {},
     "output_type": "display_data"
    }
   ],
   "source": [
    "dataset_df[\"negativereason\"].dropna().value_counts(dropna=False).plot(kind=\"bar\", figsize=(12, 8))"
   ]
  },
  {
   "cell_type": "markdown",
   "id": "04cfac52-ac3c-4070-9b9d-b3e710a18fd5",
   "metadata": {},
   "source": [
    "The previous plot shows us that the top 4 reasons for someone to have left a negative review are:\n",
    "- Customer Service Issue\n",
    "- Late Flight\n",
    "- Can't Tell\n",
    "- Cancelled Flight\n",
    "\n",
    "Similarly, one can look at this as a function of airline"
   ]
  },
  {
   "cell_type": "code",
   "execution_count": 26,
   "id": "ec6de81c-032b-43db-87d4-e1abe99e30db",
   "metadata": {
    "tags": []
   },
   "outputs": [
    {
     "data": {
      "text/html": [
       "<div>\n",
       "<style scoped>\n",
       "    .dataframe tbody tr th:only-of-type {\n",
       "        vertical-align: middle;\n",
       "    }\n",
       "\n",
       "    .dataframe tbody tr th {\n",
       "        vertical-align: top;\n",
       "    }\n",
       "\n",
       "    .dataframe thead th {\n",
       "        text-align: right;\n",
       "    }\n",
       "</style>\n",
       "<table border=\"1\" class=\"dataframe\">\n",
       "  <thead>\n",
       "    <tr style=\"text-align: right;\">\n",
       "      <th>negativereason</th>\n",
       "      <th>Bad Flight</th>\n",
       "      <th>Can't Tell</th>\n",
       "      <th>Cancelled Flight</th>\n",
       "      <th>Customer Service Issue</th>\n",
       "      <th>Damaged Luggage</th>\n",
       "      <th>Flight Attendant Complaints</th>\n",
       "      <th>Flight Booking Problems</th>\n",
       "      <th>Late Flight</th>\n",
       "      <th>Lost Luggage</th>\n",
       "      <th>longlines</th>\n",
       "    </tr>\n",
       "    <tr>\n",
       "      <th>airline</th>\n",
       "      <th></th>\n",
       "      <th></th>\n",
       "      <th></th>\n",
       "      <th></th>\n",
       "      <th></th>\n",
       "      <th></th>\n",
       "      <th></th>\n",
       "      <th></th>\n",
       "      <th></th>\n",
       "      <th></th>\n",
       "    </tr>\n",
       "  </thead>\n",
       "  <tbody>\n",
       "    <tr>\n",
       "      <th>American</th>\n",
       "      <td>87</td>\n",
       "      <td>198</td>\n",
       "      <td>246</td>\n",
       "      <td>768</td>\n",
       "      <td>12</td>\n",
       "      <td>87</td>\n",
       "      <td>130</td>\n",
       "      <td>249</td>\n",
       "      <td>149</td>\n",
       "      <td>34</td>\n",
       "    </tr>\n",
       "    <tr>\n",
       "      <th>Delta</th>\n",
       "      <td>64</td>\n",
       "      <td>186</td>\n",
       "      <td>51</td>\n",
       "      <td>199</td>\n",
       "      <td>11</td>\n",
       "      <td>60</td>\n",
       "      <td>44</td>\n",
       "      <td>269</td>\n",
       "      <td>57</td>\n",
       "      <td>14</td>\n",
       "    </tr>\n",
       "    <tr>\n",
       "      <th>Southwest</th>\n",
       "      <td>90</td>\n",
       "      <td>159</td>\n",
       "      <td>162</td>\n",
       "      <td>391</td>\n",
       "      <td>14</td>\n",
       "      <td>38</td>\n",
       "      <td>61</td>\n",
       "      <td>152</td>\n",
       "      <td>90</td>\n",
       "      <td>29</td>\n",
       "    </tr>\n",
       "    <tr>\n",
       "      <th>US Airways</th>\n",
       "      <td>104</td>\n",
       "      <td>246</td>\n",
       "      <td>189</td>\n",
       "      <td>811</td>\n",
       "      <td>11</td>\n",
       "      <td>123</td>\n",
       "      <td>122</td>\n",
       "      <td>453</td>\n",
       "      <td>154</td>\n",
       "      <td>50</td>\n",
       "    </tr>\n",
       "    <tr>\n",
       "      <th>United</th>\n",
       "      <td>216</td>\n",
       "      <td>379</td>\n",
       "      <td>181</td>\n",
       "      <td>681</td>\n",
       "      <td>22</td>\n",
       "      <td>168</td>\n",
       "      <td>144</td>\n",
       "      <td>525</td>\n",
       "      <td>269</td>\n",
       "      <td>48</td>\n",
       "    </tr>\n",
       "    <tr>\n",
       "      <th>Virgin America</th>\n",
       "      <td>19</td>\n",
       "      <td>22</td>\n",
       "      <td>18</td>\n",
       "      <td>60</td>\n",
       "      <td>4</td>\n",
       "      <td>5</td>\n",
       "      <td>28</td>\n",
       "      <td>17</td>\n",
       "      <td>5</td>\n",
       "      <td>3</td>\n",
       "    </tr>\n",
       "  </tbody>\n",
       "</table>\n",
       "</div>"
      ],
      "text/plain": [
       "negativereason  Bad Flight  Can't Tell  Cancelled Flight   \n",
       "airline                                                    \n",
       "American                87         198               246  \\\n",
       "Delta                   64         186                51   \n",
       "Southwest               90         159               162   \n",
       "US Airways             104         246               189   \n",
       "United                 216         379               181   \n",
       "Virgin America          19          22                18   \n",
       "\n",
       "negativereason  Customer Service Issue  Damaged Luggage   \n",
       "airline                                                   \n",
       "American                           768               12  \\\n",
       "Delta                              199               11   \n",
       "Southwest                          391               14   \n",
       "US Airways                         811               11   \n",
       "United                             681               22   \n",
       "Virgin America                      60                4   \n",
       "\n",
       "negativereason  Flight Attendant Complaints  Flight Booking Problems   \n",
       "airline                                                                \n",
       "American                                 87                      130  \\\n",
       "Delta                                    60                       44   \n",
       "Southwest                                38                       61   \n",
       "US Airways                              123                      122   \n",
       "United                                  168                      144   \n",
       "Virgin America                            5                       28   \n",
       "\n",
       "negativereason  Late Flight  Lost Luggage  longlines  \n",
       "airline                                               \n",
       "American                249           149         34  \n",
       "Delta                   269            57         14  \n",
       "Southwest               152            90         29  \n",
       "US Airways              453           154         50  \n",
       "United                  525           269         48  \n",
       "Virgin America           17             5          3  "
      ]
     },
     "execution_count": 26,
     "metadata": {},
     "output_type": "execute_result"
    }
   ],
   "source": [
    "# Distribution of 'negative reason' as function of airline\n",
    "negative_reasons_per_airline = dataset_df.groupby(by=[\"airline\", \"negativereason\"]).size().unstack()\n",
    "negative_reasons_per_airline"
   ]
  },
  {
   "cell_type": "code",
   "execution_count": 27,
   "id": "b8ef34f6-77ac-4101-b630-076657200e6a",
   "metadata": {
    "tags": []
   },
   "outputs": [
    {
     "data": {
      "text/plain": [
       "<matplotlib.legend.Legend at 0x14296a580>"
      ]
     },
     "execution_count": 27,
     "metadata": {},
     "output_type": "execute_result"
    },
    {
     "data": {
      "image/png": "[encoded data removed]",
      "text/plain": [
       "<Figure size 1200x800 with 1 Axes>"
      ]
     },
     "metadata": {},
     "output_type": "display_data"
    }
   ],
   "source": [
    "_colors = plt.cm.RdBu(np.linspace(0, 1, 10))\n",
    "ax = negative_reasons_per_airline.plot(kind=\"bar\", stacked=True, figsize=(12, 8), color=_colors)\n",
    "ax.legend(bbox_to_anchor=(1.0, 1.0))"
   ]
  },
  {
   "cell_type": "markdown",
   "id": "826c9d43-f2e1-4da9-96c3-a8d97035bc76",
   "metadata": {},
   "source": [
    "As one can see, there is a wide distribution of *negative reasons* when it comes to various airlines. However, it seems that\n",
    "**Customer Service** and **Late flight** are amongst the more frequent reasons for why customers leave a bad review."
   ]
  },
  {
   "cell_type": "markdown",
   "id": "27f6f18a-091a-4cbc-8a17-53e739833341",
   "metadata": {},
   "source": [
    "### 2.2 Preprocessing of the data\n",
    "\n",
    "In order to be able to use the dataset for training a machine learning model we must first clean and preprocess the data that will be used\n",
    "for our model. In this case, we are planning to use:\n",
    "\n",
    "1. `airline_sentiment` : Defines the sentiment of the tweet\n",
    "2. `negative_reason` : Reason for the negative feedback (if negative).\n",
    "3. `Text` : Tweet text content\n",
    "4. `tweet_location` : Location, from which the tweet was posted.\n",
    "\n",
    "Each of these columns need to be preprocessed and cleaned before using it for training the model and validating its performance.\n",
    "\n",
    "Let's create a subsample of the dataset:"
   ]
  },
  {
   "cell_type": "code",
   "execution_count": 28,
   "id": "6523330a-307d-4acc-8804-1c1c9aa9989d",
   "metadata": {
    "tags": []
   },
   "outputs": [
    {
     "data": {
      "text/html": [
       "<div>\n",
       "<style scoped>\n",
       "    .dataframe tbody tr th:only-of-type {\n",
       "        vertical-align: middle;\n",
       "    }\n",
       "\n",
       "    .dataframe tbody tr th {\n",
       "        vertical-align: top;\n",
       "    }\n",
       "\n",
       "    .dataframe thead th {\n",
       "        text-align: right;\n",
       "    }\n",
       "</style>\n",
       "<table border=\"1\" class=\"dataframe\">\n",
       "  <thead>\n",
       "    <tr style=\"text-align: right;\">\n",
       "      <th></th>\n",
       "      <th>airline_sentiment</th>\n",
       "      <th>negativereason</th>\n",
       "      <th>text</th>\n",
       "      <th>tweet_location</th>\n",
       "    </tr>\n",
       "  </thead>\n",
       "  <tbody>\n",
       "    <tr>\n",
       "      <th>0</th>\n",
       "      <td>neutral</td>\n",
       "      <td>NaN</td>\n",
       "      <td>@VirginAmerica What @dhepburn said.</td>\n",
       "      <td>NaN</td>\n",
       "    </tr>\n",
       "    <tr>\n",
       "      <th>1</th>\n",
       "      <td>positive</td>\n",
       "      <td>NaN</td>\n",
       "      <td>@VirginAmerica plus you've added commercials t...</td>\n",
       "      <td>NaN</td>\n",
       "    </tr>\n",
       "    <tr>\n",
       "      <th>2</th>\n",
       "      <td>neutral</td>\n",
       "      <td>NaN</td>\n",
       "      <td>@VirginAmerica I didn't today... Must mean I n...</td>\n",
       "      <td>Lets Play</td>\n",
       "    </tr>\n",
       "    <tr>\n",
       "      <th>3</th>\n",
       "      <td>negative</td>\n",
       "      <td>Bad Flight</td>\n",
       "      <td>@VirginAmerica it's really aggressive to blast...</td>\n",
       "      <td>NaN</td>\n",
       "    </tr>\n",
       "    <tr>\n",
       "      <th>4</th>\n",
       "      <td>negative</td>\n",
       "      <td>Can't Tell</td>\n",
       "      <td>@VirginAmerica and it's a really big bad thing...</td>\n",
       "      <td>NaN</td>\n",
       "    </tr>\n",
       "    <tr>\n",
       "      <th>...</th>\n",
       "      <td>...</td>\n",
       "      <td>...</td>\n",
       "      <td>...</td>\n",
       "      <td>...</td>\n",
       "    </tr>\n",
       "    <tr>\n",
       "      <th>14635</th>\n",
       "      <td>positive</td>\n",
       "      <td>NaN</td>\n",
       "      <td>@AmericanAir thank you we got on a different f...</td>\n",
       "      <td>NaN</td>\n",
       "    </tr>\n",
       "    <tr>\n",
       "      <th>14636</th>\n",
       "      <td>negative</td>\n",
       "      <td>Customer Service Issue</td>\n",
       "      <td>@AmericanAir leaving over 20 minutes Late Flig...</td>\n",
       "      <td>Texas</td>\n",
       "    </tr>\n",
       "    <tr>\n",
       "      <th>14637</th>\n",
       "      <td>neutral</td>\n",
       "      <td>NaN</td>\n",
       "      <td>@AmericanAir Please bring American Airlines to...</td>\n",
       "      <td>Nigeria,lagos</td>\n",
       "    </tr>\n",
       "    <tr>\n",
       "      <th>14638</th>\n",
       "      <td>negative</td>\n",
       "      <td>Customer Service Issue</td>\n",
       "      <td>@AmericanAir you have my money, you change my ...</td>\n",
       "      <td>New Jersey</td>\n",
       "    </tr>\n",
       "    <tr>\n",
       "      <th>14639</th>\n",
       "      <td>neutral</td>\n",
       "      <td>NaN</td>\n",
       "      <td>@AmericanAir we have 8 ppl so we need 2 know h...</td>\n",
       "      <td>dallas, TX</td>\n",
       "    </tr>\n",
       "  </tbody>\n",
       "</table>\n",
       "<p>14640 rows × 4 columns</p>\n",
       "</div>"
      ],
      "text/plain": [
       "      airline_sentiment          negativereason   \n",
       "0               neutral                     NaN  \\\n",
       "1              positive                     NaN   \n",
       "2               neutral                     NaN   \n",
       "3              negative              Bad Flight   \n",
       "4              negative              Can't Tell   \n",
       "...                 ...                     ...   \n",
       "14635          positive                     NaN   \n",
       "14636          negative  Customer Service Issue   \n",
       "14637           neutral                     NaN   \n",
       "14638          negative  Customer Service Issue   \n",
       "14639           neutral                     NaN   \n",
       "\n",
       "                                                    text tweet_location  \n",
       "0                    @VirginAmerica What @dhepburn said.            NaN  \n",
       "1      @VirginAmerica plus you've added commercials t...            NaN  \n",
       "2      @VirginAmerica I didn't today... Must mean I n...      Lets Play  \n",
       "3      @VirginAmerica it's really aggressive to blast...            NaN  \n",
       "4      @VirginAmerica and it's a really big bad thing...            NaN  \n",
       "...                                                  ...            ...  \n",
       "14635  @AmericanAir thank you we got on a different f...            NaN  \n",
       "14636  @AmericanAir leaving over 20 minutes Late Flig...          Texas  \n",
       "14637  @AmericanAir Please bring American Airlines to...  Nigeria,lagos  \n",
       "14638  @AmericanAir you have my money, you change my ...     New Jersey  \n",
       "14639  @AmericanAir we have 8 ppl so we need 2 know h...     dallas, TX  \n",
       "\n",
       "[14640 rows x 4 columns]"
      ]
     },
     "execution_count": 28,
     "metadata": {},
     "output_type": "execute_result"
    }
   ],
   "source": [
    "# Creating a subsample of the dataset\n",
    "columns_subset_arr = [\"airline_sentiment\", \"negativereason\", \"text\", \"tweet_location\"]\n",
    "df_subset = dataset_df[columns_subset_arr]\n",
    "\n",
    "df_subset"
   ]
  },
  {
   "cell_type": "markdown",
   "id": "44095c72-84a9-46e9-833e-eb165a443936",
   "metadata": {},
   "source": [
    "Before starting, let's check the distribution of the `airline_sentiment`:"
   ]
  },
  {
   "cell_type": "code",
   "execution_count": 29,
   "id": "95922fb1-d800-47ff-8f0c-c2d6a2764fc8",
   "metadata": {
    "tags": []
   },
   "outputs": [
    {
     "data": {
      "text/html": [
       "<div>\n",
       "<style scoped>\n",
       "    .dataframe tbody tr th:only-of-type {\n",
       "        vertical-align: middle;\n",
       "    }\n",
       "\n",
       "    .dataframe tbody tr th {\n",
       "        vertical-align: top;\n",
       "    }\n",
       "\n",
       "    .dataframe thead th {\n",
       "        text-align: right;\n",
       "    }\n",
       "</style>\n",
       "<table border=\"1\" class=\"dataframe\">\n",
       "  <thead>\n",
       "    <tr style=\"text-align: right;\">\n",
       "      <th></th>\n",
       "      <th>proportion</th>\n",
       "    </tr>\n",
       "    <tr>\n",
       "      <th>airline_sentiment</th>\n",
       "      <th></th>\n",
       "    </tr>\n",
       "  </thead>\n",
       "  <tbody>\n",
       "    <tr>\n",
       "      <th>negative</th>\n",
       "      <td>0.626913</td>\n",
       "    </tr>\n",
       "    <tr>\n",
       "      <th>neutral</th>\n",
       "      <td>0.211680</td>\n",
       "    </tr>\n",
       "    <tr>\n",
       "      <th>positive</th>\n",
       "      <td>0.161407</td>\n",
       "    </tr>\n",
       "  </tbody>\n",
       "</table>\n",
       "</div>"
      ],
      "text/plain": [
       "                   proportion\n",
       "airline_sentiment            \n",
       "negative             0.626913\n",
       "neutral              0.211680\n",
       "positive             0.161407"
      ]
     },
     "execution_count": 29,
     "metadata": {},
     "output_type": "execute_result"
    }
   ],
   "source": [
    "df_subset[\"airline_sentiment\"].value_counts(dropna=False, normalize=True).to_frame()"
   ]
  },
  {
   "cell_type": "markdown",
   "id": "8079ead5-7e69-4c93-be6b-c2fa56dcb47d",
   "metadata": {},
   "source": [
    "This shows that about 62.6% of the data is comprised of *negative* reviews, while the remaining ~21% and ~16% if comprised of *neutral* and *positive* reviews, respectively."
   ]
  },
  {
   "cell_type": "markdown",
   "id": "eb499c3b-4a3d-4b15-abe5-0c7ca74c344c",
   "metadata": {},
   "source": [
    "#### 2.2.1 Text preparation\n",
    "\n",
    "We first need to clean the tweets, tokenize their content."
   ]
  },
  {
   "cell_type": "code",
   "execution_count": 30,
   "id": "89b5501b-1cc4-4948-8144-42d6e76783b8",
   "metadata": {
    "tags": []
   },
   "outputs": [
    {
     "name": "stderr",
     "output_type": "stream",
     "text": [
      "[nltk_data] Downloading package stopwords to\n",
      "[nltk_data]     /Users/vfcalderon/nltk_data...\n",
      "[nltk_data]   Package stopwords is already up-to-date!\n"
     ]
    }
   ],
   "source": [
    "# --- Specifying the NLP pipeline\n",
    "nltk.download('stopwords')\n",
    "\n",
    "# Create a list of punctuation marks\n",
    "punctuations = string.punctuation\n",
    "\n",
    "# List of stopwords - No custom ones for nowd\n",
    "# stopwords = spacy.lang.en.stop_words.STOP_WORDS\n",
    "stopwords = nltk.corpus.stopwords.words('english')\n",
    "\n",
    "# Function to remove URLs from text\n",
    "def remove_urls(text):\n",
    "    text = re.sub(r\"\\S*https?:\\S*\", \"\", text, flags=re.MULTILINE)\n",
    "    return text\n",
    "\n",
    "\n",
    "def _tokenize_text(text: str):\n",
    "    \n",
    "    # Initializing tokenizer object\n",
    "    tk = TweetTokenizer(strip_handles=True, reduce_len=True, preserve_case=False)\n",
    "    \n",
    "    return tk.tokenize(text)\n",
    "\n",
    "def _remove_stopwords(text: str):\n",
    "    \n",
    "    # Tokenizing text\n",
    "    tokens = _tokenize_text(text)\n",
    "    \n",
    "    # Filtering out stop words\n",
    "    filtered_tokens = [token for token in tokens if token not in stopwords]\n",
    "    \n",
    "    return ' '.join(filtered_tokens)\n",
    "\n",
    "def _remove_punctuation(text):\n",
    "    \n",
    "    nopunc =[char for char in text if char not in string.punctuation]\n",
    "    nopunc=''.join(nopunc)\n",
    "    \n",
    "    return ' '.join([word for word in nopunc.split() if word.lower() not in stopwords])\n",
    "\n",
    "\n",
    "def prepare_text(text: str):\n",
    "    \"\"\"\n",
    "    Function to tokenize the input text.\n",
    "    \n",
    "    Parameters\n",
    "    ------------\n",
    "    text : str\n",
    "        Text that will be tokenized by spaCy.\n",
    "    \n",
    "    Returns\n",
    "    ----------\n",
    "    text_tokenize : str\n",
    "        Tokenized version of the input ``text``.\n",
    "    \"\"\"\n",
    "    # Making everything lowercase\n",
    "    text = text.lower()\n",
    "    \n",
    "    # Removing stop words\n",
    "    tokens = _remove_stopwords(text)\n",
    "    \n",
    "    # Removing punctuation\n",
    "    tokens = _remove_punctuation(tokens)\n",
    "              \n",
    "    return tokens\n"
   ]
  },
  {
   "cell_type": "markdown",
   "id": "f0155803-d9ea-4925-9694-16335f266191",
   "metadata": {
    "tags": []
   },
   "source": [
    "We can now apply it to the overall text"
   ]
  },
  {
   "cell_type": "code",
   "execution_count": 31,
   "id": "078c607e-cf04-472f-b9f9-8750a4f230f6",
   "metadata": {
    "tags": []
   },
   "outputs": [
    {
     "name": "stderr",
     "output_type": "stream",
     "text": [
      "/var/folders/lm/rc_j1sgx687267y6tjc4l5600000gn/T/ipykernel_31808/2287887975.py:4: SettingWithCopyWarning: \n",
      "A value is trying to be set on a copy of a slice from a DataFrame.\n",
      "Try using .loc[row_indexer,col_indexer] = value instead\n",
      "\n",
      "See the caveats in the documentation: https://pandas.pydata.org/pandas-docs/stable/user_guide/indexing.html#returning-a-view-versus-a-copy\n",
      "  df_subset.loc[:,\"processed_text\"] = df_subset[\"text\"].apply(prepare_text)\n"
     ]
    },
    {
     "data": {
      "text/plain": [
       "0                                                     said\n",
       "1                  plus added commercials experience tacky\n",
       "2                   today must mean need take another trip\n",
       "3        really aggressive blast obnoxious entertainmen...\n",
       "4                                     really big bad thing\n",
       "                               ...                        \n",
       "14635                   thank got different flight chicago\n",
       "14636    leaving 20 minutes late flight warnings commun...\n",
       "14637          please bring american airlines blackberry10\n",
       "14638    money change flight answer phones suggestions ...\n",
       "14639    8 ppl need 2 know many seats next flight plz p...\n",
       "Name: processed_text, Length: 14640, dtype: object"
      ]
     },
     "execution_count": 31,
     "metadata": {},
     "output_type": "execute_result"
    }
   ],
   "source": [
    "# --- Tokenizing the contents of the tweets\n",
    "\n",
    "# Tokenizing each input\n",
    "df_subset.loc[:,\"processed_text\"] = df_subset[\"text\"].apply(prepare_text)\n",
    "df_subset[\"processed_text\"]"
   ]
  },
  {
   "cell_type": "markdown",
   "id": "5a999691-d3a0-4a3b-a4b1-23a4c50d6966",
   "metadata": {},
   "source": [
    "#### 2.2.2 Preprocess airline sentiment\n",
    "\n",
    "Additionally, we also need to preprocess the `airline_sentiment` variables, since these are categorical variables and we need to One-Hot encode the variables."
   ]
  },
  {
   "cell_type": "code",
   "execution_count": 32,
   "id": "54ea3ed0-7ad9-4a25-bdda-c117c17aab7d",
   "metadata": {
    "tags": []
   },
   "outputs": [
    {
     "data": {
      "text/html": [
       "<div>\n",
       "<style scoped>\n",
       "    .dataframe tbody tr th:only-of-type {\n",
       "        vertical-align: middle;\n",
       "    }\n",
       "\n",
       "    .dataframe tbody tr th {\n",
       "        vertical-align: top;\n",
       "    }\n",
       "\n",
       "    .dataframe thead th {\n",
       "        text-align: right;\n",
       "    }\n",
       "</style>\n",
       "<table border=\"1\" class=\"dataframe\">\n",
       "  <thead>\n",
       "    <tr style=\"text-align: right;\">\n",
       "      <th></th>\n",
       "      <th>airline_sentiment</th>\n",
       "      <th>negativereason</th>\n",
       "      <th>text</th>\n",
       "      <th>tweet_location</th>\n",
       "      <th>processed_text</th>\n",
       "    </tr>\n",
       "  </thead>\n",
       "  <tbody>\n",
       "    <tr>\n",
       "      <th>0</th>\n",
       "      <td>2</td>\n",
       "      <td>NaN</td>\n",
       "      <td>@VirginAmerica What @dhepburn said.</td>\n",
       "      <td>NaN</td>\n",
       "      <td>said</td>\n",
       "    </tr>\n",
       "    <tr>\n",
       "      <th>1</th>\n",
       "      <td>1</td>\n",
       "      <td>NaN</td>\n",
       "      <td>@VirginAmerica plus you've added commercials t...</td>\n",
       "      <td>NaN</td>\n",
       "      <td>plus added commercials experience tacky</td>\n",
       "    </tr>\n",
       "    <tr>\n",
       "      <th>2</th>\n",
       "      <td>2</td>\n",
       "      <td>NaN</td>\n",
       "      <td>@VirginAmerica I didn't today... Must mean I n...</td>\n",
       "      <td>Lets Play</td>\n",
       "      <td>today must mean need take another trip</td>\n",
       "    </tr>\n",
       "    <tr>\n",
       "      <th>3</th>\n",
       "      <td>0</td>\n",
       "      <td>Bad Flight</td>\n",
       "      <td>@VirginAmerica it's really aggressive to blast...</td>\n",
       "      <td>NaN</td>\n",
       "      <td>really aggressive blast obnoxious entertainmen...</td>\n",
       "    </tr>\n",
       "    <tr>\n",
       "      <th>4</th>\n",
       "      <td>0</td>\n",
       "      <td>Can't Tell</td>\n",
       "      <td>@VirginAmerica and it's a really big bad thing...</td>\n",
       "      <td>NaN</td>\n",
       "      <td>really big bad thing</td>\n",
       "    </tr>\n",
       "    <tr>\n",
       "      <th>...</th>\n",
       "      <td>...</td>\n",
       "      <td>...</td>\n",
       "      <td>...</td>\n",
       "      <td>...</td>\n",
       "      <td>...</td>\n",
       "    </tr>\n",
       "    <tr>\n",
       "      <th>14635</th>\n",
       "      <td>1</td>\n",
       "      <td>NaN</td>\n",
       "      <td>@AmericanAir thank you we got on a different f...</td>\n",
       "      <td>NaN</td>\n",
       "      <td>thank got different flight chicago</td>\n",
       "    </tr>\n",
       "    <tr>\n",
       "      <th>14636</th>\n",
       "      <td>0</td>\n",
       "      <td>Customer Service Issue</td>\n",
       "      <td>@AmericanAir leaving over 20 minutes Late Flig...</td>\n",
       "      <td>Texas</td>\n",
       "      <td>leaving 20 minutes late flight warnings commun...</td>\n",
       "    </tr>\n",
       "    <tr>\n",
       "      <th>14637</th>\n",
       "      <td>2</td>\n",
       "      <td>NaN</td>\n",
       "      <td>@AmericanAir Please bring American Airlines to...</td>\n",
       "      <td>Nigeria,lagos</td>\n",
       "      <td>please bring american airlines blackberry10</td>\n",
       "    </tr>\n",
       "    <tr>\n",
       "      <th>14638</th>\n",
       "      <td>0</td>\n",
       "      <td>Customer Service Issue</td>\n",
       "      <td>@AmericanAir you have my money, you change my ...</td>\n",
       "      <td>New Jersey</td>\n",
       "      <td>money change flight answer phones suggestions ...</td>\n",
       "    </tr>\n",
       "    <tr>\n",
       "      <th>14639</th>\n",
       "      <td>2</td>\n",
       "      <td>NaN</td>\n",
       "      <td>@AmericanAir we have 8 ppl so we need 2 know h...</td>\n",
       "      <td>dallas, TX</td>\n",
       "      <td>8 ppl need 2 know many seats next flight plz p...</td>\n",
       "    </tr>\n",
       "  </tbody>\n",
       "</table>\n",
       "<p>14640 rows × 5 columns</p>\n",
       "</div>"
      ],
      "text/plain": [
       "      airline_sentiment          negativereason   \n",
       "0                     2                     NaN  \\\n",
       "1                     1                     NaN   \n",
       "2                     2                     NaN   \n",
       "3                     0              Bad Flight   \n",
       "4                     0              Can't Tell   \n",
       "...                 ...                     ...   \n",
       "14635                 1                     NaN   \n",
       "14636                 0  Customer Service Issue   \n",
       "14637                 2                     NaN   \n",
       "14638                 0  Customer Service Issue   \n",
       "14639                 2                     NaN   \n",
       "\n",
       "                                                    text tweet_location   \n",
       "0                    @VirginAmerica What @dhepburn said.            NaN  \\\n",
       "1      @VirginAmerica plus you've added commercials t...            NaN   \n",
       "2      @VirginAmerica I didn't today... Must mean I n...      Lets Play   \n",
       "3      @VirginAmerica it's really aggressive to blast...            NaN   \n",
       "4      @VirginAmerica and it's a really big bad thing...            NaN   \n",
       "...                                                  ...            ...   \n",
       "14635  @AmericanAir thank you we got on a different f...            NaN   \n",
       "14636  @AmericanAir leaving over 20 minutes Late Flig...          Texas   \n",
       "14637  @AmericanAir Please bring American Airlines to...  Nigeria,lagos   \n",
       "14638  @AmericanAir you have my money, you change my ...     New Jersey   \n",
       "14639  @AmericanAir we have 8 ppl so we need 2 know h...     dallas, TX   \n",
       "\n",
       "                                          processed_text  \n",
       "0                                                   said  \n",
       "1                plus added commercials experience tacky  \n",
       "2                 today must mean need take another trip  \n",
       "3      really aggressive blast obnoxious entertainmen...  \n",
       "4                                   really big bad thing  \n",
       "...                                                  ...  \n",
       "14635                 thank got different flight chicago  \n",
       "14636  leaving 20 minutes late flight warnings commun...  \n",
       "14637        please bring american airlines blackberry10  \n",
       "14638  money change flight answer phones suggestions ...  \n",
       "14639  8 ppl need 2 know many seats next flight plz p...  \n",
       "\n",
       "[14640 rows x 5 columns]"
      ]
     },
     "execution_count": 32,
     "metadata": {},
     "output_type": "execute_result"
    }
   ],
   "source": [
    "# Defining the mapping for the airline sentiment\n",
    "# NOTE: This can be further processed using the OneHotEncoder from Scikit-Learn \n",
    "airline_sentiment_mapping = dict(zip([\"negative\", \"positive\", \"neutral\"], [0,1,2]))\n",
    "\n",
    "# Mapping the new values\n",
    "df_subset.loc[:,\"airline_sentiment\"] = df_subset[\"airline_sentiment\"].replace(airline_sentiment_mapping)\n",
    "\n",
    "df_subset"
   ]
  },
  {
   "cell_type": "markdown",
   "id": "e85f2bcc-d389-45b4-b231-f30d041ec722",
   "metadata": {},
   "source": [
    "The clean dataset now looks like this:"
   ]
  },
  {
   "cell_type": "code",
   "execution_count": 33,
   "id": "a31dff5d-cafc-459b-b1b4-d0d57dedabb3",
   "metadata": {
    "tags": []
   },
   "outputs": [
    {
     "data": {
      "text/html": [
       "<div>\n",
       "<style scoped>\n",
       "    .dataframe tbody tr th:only-of-type {\n",
       "        vertical-align: middle;\n",
       "    }\n",
       "\n",
       "    .dataframe tbody tr th {\n",
       "        vertical-align: top;\n",
       "    }\n",
       "\n",
       "    .dataframe thead th {\n",
       "        text-align: right;\n",
       "    }\n",
       "</style>\n",
       "<table border=\"1\" class=\"dataframe\">\n",
       "  <thead>\n",
       "    <tr style=\"text-align: right;\">\n",
       "      <th></th>\n",
       "      <th>airline_sentiment</th>\n",
       "      <th>negativereason</th>\n",
       "      <th>processed_text</th>\n",
       "    </tr>\n",
       "  </thead>\n",
       "  <tbody>\n",
       "    <tr>\n",
       "      <th>0</th>\n",
       "      <td>2</td>\n",
       "      <td>NaN</td>\n",
       "      <td>said</td>\n",
       "    </tr>\n",
       "    <tr>\n",
       "      <th>1</th>\n",
       "      <td>1</td>\n",
       "      <td>NaN</td>\n",
       "      <td>plus added commercials experience tacky</td>\n",
       "    </tr>\n",
       "    <tr>\n",
       "      <th>2</th>\n",
       "      <td>2</td>\n",
       "      <td>NaN</td>\n",
       "      <td>today must mean need take another trip</td>\n",
       "    </tr>\n",
       "    <tr>\n",
       "      <th>3</th>\n",
       "      <td>0</td>\n",
       "      <td>Bad Flight</td>\n",
       "      <td>really aggressive blast obnoxious entertainmen...</td>\n",
       "    </tr>\n",
       "    <tr>\n",
       "      <th>4</th>\n",
       "      <td>0</td>\n",
       "      <td>Can't Tell</td>\n",
       "      <td>really big bad thing</td>\n",
       "    </tr>\n",
       "    <tr>\n",
       "      <th>...</th>\n",
       "      <td>...</td>\n",
       "      <td>...</td>\n",
       "      <td>...</td>\n",
       "    </tr>\n",
       "    <tr>\n",
       "      <th>14635</th>\n",
       "      <td>1</td>\n",
       "      <td>NaN</td>\n",
       "      <td>thank got different flight chicago</td>\n",
       "    </tr>\n",
       "    <tr>\n",
       "      <th>14636</th>\n",
       "      <td>0</td>\n",
       "      <td>Customer Service Issue</td>\n",
       "      <td>leaving 20 minutes late flight warnings commun...</td>\n",
       "    </tr>\n",
       "    <tr>\n",
       "      <th>14637</th>\n",
       "      <td>2</td>\n",
       "      <td>NaN</td>\n",
       "      <td>please bring american airlines blackberry10</td>\n",
       "    </tr>\n",
       "    <tr>\n",
       "      <th>14638</th>\n",
       "      <td>0</td>\n",
       "      <td>Customer Service Issue</td>\n",
       "      <td>money change flight answer phones suggestions ...</td>\n",
       "    </tr>\n",
       "    <tr>\n",
       "      <th>14639</th>\n",
       "      <td>2</td>\n",
       "      <td>NaN</td>\n",
       "      <td>8 ppl need 2 know many seats next flight plz p...</td>\n",
       "    </tr>\n",
       "  </tbody>\n",
       "</table>\n",
       "<p>14640 rows × 3 columns</p>\n",
       "</div>"
      ],
      "text/plain": [
       "      airline_sentiment          negativereason   \n",
       "0                     2                     NaN  \\\n",
       "1                     1                     NaN   \n",
       "2                     2                     NaN   \n",
       "3                     0              Bad Flight   \n",
       "4                     0              Can't Tell   \n",
       "...                 ...                     ...   \n",
       "14635                 1                     NaN   \n",
       "14636                 0  Customer Service Issue   \n",
       "14637                 2                     NaN   \n",
       "14638                 0  Customer Service Issue   \n",
       "14639                 2                     NaN   \n",
       "\n",
       "                                          processed_text  \n",
       "0                                                   said  \n",
       "1                plus added commercials experience tacky  \n",
       "2                 today must mean need take another trip  \n",
       "3      really aggressive blast obnoxious entertainmen...  \n",
       "4                                   really big bad thing  \n",
       "...                                                  ...  \n",
       "14635                 thank got different flight chicago  \n",
       "14636  leaving 20 minutes late flight warnings commun...  \n",
       "14637        please bring american airlines blackberry10  \n",
       "14638  money change flight answer phones suggestions ...  \n",
       "14639  8 ppl need 2 know many seats next flight plz p...  \n",
       "\n",
       "[14640 rows x 3 columns]"
      ]
     },
     "execution_count": 33,
     "metadata": {},
     "output_type": "execute_result"
    }
   ],
   "source": [
    "df_clean = df_subset[[\"airline_sentiment\", \"negativereason\", \"processed_text\"]]\n",
    "\n",
    "df_clean"
   ]
  },
  {
   "cell_type": "markdown",
   "id": "80180be4-205a-4bd7-b85d-cf79ccf95cb6",
   "metadata": {},
   "source": [
    "---"
   ]
  },
  {
   "cell_type": "markdown",
   "id": "05d023e3-2f7a-4dbe-975b-889f39fd778b",
   "metadata": {},
   "source": [
    "## 3. Training and evaluation of the model\n",
    "\n",
    "The next step is vectorize the dataset:"
   ]
  },
  {
   "cell_type": "code",
   "execution_count": 34,
   "id": "ca9d23bc-1789-4678-800c-762283203fbb",
   "metadata": {
    "tags": []
   },
   "outputs": [],
   "source": [
    "# Initializing vectorizer\n",
    "vectorizer = TfidfVectorizer(use_idf=True, lowercase=True)\n",
    "\n",
    "# Creating vectorized version of the data\n",
    "X_tf_idf = vectorizer.fit_transform(df_clean[\"processed_text\"])\n",
    "\n",
    "# Creating a train/test split\n",
    "x_train, x_test, y_train, y_test = train_test_split(X_tf_idf, df_clean['airline_sentiment'], random_state=42)"
   ]
  },
  {
   "cell_type": "markdown",
   "id": "cbf17466-9ac0-4d78-8606-0b6878f31039",
   "metadata": {
    "tags": []
   },
   "source": [
    "### 3.1 Training the model"
   ]
  },
  {
   "cell_type": "markdown",
   "id": "00e85cf3-703f-4f46-b1cf-fef700d73593",
   "metadata": {},
   "source": [
    "Now that we have defined the training / testing datasets, we can now proceed with training our model.\n",
    "For the first case, we can define the set of statistics and metrics that we'll use to evaluate the\n",
    "performance of the model, and make it so that we can determine if the model is good or needs some more\n",
    "fine-tuning."
   ]
  },
  {
   "cell_type": "code",
   "execution_count": 36,
   "id": "de252a7d-4d44-4b9b-a1ae-a95e964c10e6",
   "metadata": {
    "tags": []
   },
   "outputs": [],
   "source": [
    "def _train_and_evaluate_model(clf, X_train, X_test, y_train, y_test):\n",
    "    \"\"\"\n",
    "    Function to train the input model and evaluate the performance metrics\n",
    "    of the training and validation datasets.\n",
    "    \n",
    "    Parameters\n",
    "    -------------\n",
    "    clf : model\n",
    "        Variable corresponding to the input model.\n",
    "    \n",
    "    X_train : numpy.ndarray\n",
    "        Array corresponding to the input features for ``training``.\n",
    "    \n",
    "    X_test : numpy.ndarray\n",
    "        Array corresponding to the input features for ``testing``.\n",
    "    \n",
    "    y_train : numpy.ndarray\n",
    "        Variable corresponding to the target variable in ``training``.\n",
    "        \n",
    "    y_test : numpy.ndarray\n",
    "        Variable corresponding to the target variable in ``testing``.\n",
    "    \"\"\"\n",
    "    # Training the model on training data\n",
    "    model = clf.fit(X_train, y_train)\n",
    "    \n",
    "    # Predicted the classes on the test dataset\n",
    "    predicted_class_test = model.predict(X_test)\n",
    "    \n",
    "    # Predicted the classes on the 'training' dataset\n",
    "    predicted_class_train = model.predict(X_train)\n",
    "    \n",
    "    # Creating predicted columns\n",
    "    pred_arr = model.predict(X_test)\n",
    "    \n",
    "    # Extracting the probabilities of the validation dataset\n",
    "    test_probs = model.predict_proba(X_test)\n",
    "    test_probs = test_probs[:, 1]\n",
    "    \n",
    "    # Calculating the metrics, such as precision and recall\n",
    "    lr_precision, lr_recall, _ = precision_recall_curve(y_test, test_probs)\n",
    "    \n",
    "    # Calculating metrics such as F1-score, and area-under-curve (auc)\n",
    "    lr_f1 = f1_score(y_test, yhat)\n",
    "    lr_auc = auc(lr_recall, lr_precision)\n",
    "    \n",
    "    # Calculating ROC\n",
    "    fpr, tpr, _ = roc_curve(y_test, test_probs)\n",
    "    \n",
    "    # --- Providing set of metrics to use\n",
    "    \n",
    "    # - Accuracy\n",
    "    accuracy_train = accuracy_score(y_train, predicted_class_train)\n",
    "    accuracy_test = accuracy_score(y_test, predicted_class_test)\n",
    "    \n",
    "    logger.info(f\"Training accuracy: {accuracy_train}\")\n",
    "    logger.info(f\"Testing accuracy : {accuracy_test}\")\n",
    "    \n",
    "    # - ROC and AUC\n",
    "    train_auc = roc_auc_score(y_train, clf.predict_proba(X_train)[:, 1])\n",
    "    test_auc = roc_auc_score(y_test, clf.predict_proba(X_test)[:, 1])\n",
    "    \n",
    "    logger.info(f\"Train ROC-AUC score: {train_auc}\")\n",
    "    logger.info(f\"Test ROC-AUC score: {test_auc}\")\n",
    "    \n",
    "    # --- Recall and precision\n",
    "    logger.info(f\"Precision: {lr_precision}\")\n",
    "    logger.info(f\"Recall: {lr_recall}\")\n",
    "    \n",
    "    # --- Area under the curve\n",
    "    logger.info(f\"Area under Precision-Recall curve?\")\n",
    "\n",
    "    return"
   ]
  },
  {
   "cell_type": "code",
   "execution_count": null,
   "id": "3c67fd21-37ee-4be9-b8cd-2a95477f6fa3",
   "metadata": {
    "tags": []
   },
   "outputs": [],
   "source": [
    "# Validating model\n",
    "s_train_accu, s_test_accu, s_train_auc, s_test_auc = _train_and_evaluate_model(MultinomialNB(), x_train, y_test, y_train, y_test)"
   ]
  }
 ],
 "metadata": {
  "kernelspec": {
   "display_name": "Python 3 (ipykernel)",
   "language": "python",
   "name": "python3"
  },
  "language_info": {
   "codemirror_mode": {
    "name": "ipython",
    "version": 3
   },
   "file_extension": ".py",
   "mimetype": "text/x-python",
   "name": "python",
   "nbconvert_exporter": "python",
   "pygments_lexer": "ipython3",
   "version": "3.9.16"
  }
 },
 "nbformat": 4,
 "nbformat_minor": 5
}

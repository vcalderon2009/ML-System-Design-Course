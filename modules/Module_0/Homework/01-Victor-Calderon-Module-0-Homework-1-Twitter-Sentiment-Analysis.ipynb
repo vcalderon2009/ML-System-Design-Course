{
 "cells": [
  {
   "cell_type": "markdown",
   "id": "5974eb13-2198-45e1-9a78-c6ce586da438",
   "metadata": {},
   "source": [
    "[![Open In Colab](https://colab.research.google.com/assets/colab-badge.svg)][collabURL]\n",
    "\n",
    "# Module 0 - Homework 1 - Twitter Sentiment Analysis\n",
    "\n",
    "**Author** : Victor Calderon\n",
    "\n",
    "\n",
    "## Problem Statement\n",
    "\n",
    "Airline industry had a very hard time post-covid to sustain their business\n",
    "due to a long hault. It is very important for them to make sure they exceed\n",
    "customer expectations. The best way to evaluate performance is customer\n",
    "feedback. You are given a dataset of *airline tweets* from real customers.\n",
    "\n",
    "A sentiment analysis job about the problems of each major U.S. airline.\n",
    "Twitter data was scraped from *February of 2015* and contributors\n",
    "were asked to first classify *positive*, *negative*, and *neutral* tweents,\n",
    "followed by categorizing *negative reasons* (e.g. \"late flight\", or\n",
    "\"rude service\").\n",
    "\n",
    "You will use the text column and sentiment column to create a classification\n",
    "model that classifies a given tween into one of the 3 classes:\n",
    "\n",
    "- Positive\n",
    "- Negative\n",
    "- Neutral\n",
    "\n",
    "## Understanding the dataset\n",
    "\n",
    "Dataset contains many columns, out of which below are most important ones:\n",
    "\n",
    "1. `airline_sentiment` : Defines the sentiment of the tweet\n",
    "2. `negative_reason` : Reason for the negative feedback (if negative).\n",
    "3. `Text` : Tweet text content\n",
    "4. `tweet_location` : Location, from which the tweet was posted.\n",
    "\n",
    "## Steps to perform\n",
    "\n",
    "1. Load dataset: [link][datasetURL]\n",
    "2. Clean, preprocess data and EDA.\n",
    "3. Vectorise columns that contain text.\n",
    "4. Run classification model to classify - *positive*, *negative*, or *neutral*.\n",
    "5. Evaluate model.\n",
    "\n",
    "<!-- Links -->\n",
    "\n",
    "[jupyterNotebook]: https://github.com/hamzafarooq/maven-mlsystem-design-cohort-1/blob/main/Module-0/airline_tweet_sentiment.ipynb\n",
    "\n",
    "[datasetURL]: https://www.kaggle.com/datasets/crowdflower/twitter-airline-sentiment\n",
    "\n",
    "[spacyURL]: https://spacy.io/\n",
    "\n",
    "[kaggleURL]: https://www.kaggle.com/\n",
    "\n",
    "[nltkURL]: https://www.nltk.org/\n",
    "\n",
    "[collabURL]: https://colab.research.google.com/github/vcalderon2009/ML-System-Design-Course/blob/feature%2Fmodule-0-intro-to-nlp/modules/Module_0/Homework/01-Victor-Calderon-Module-0-Homework-1-Twitter-Sentiment-Analysis.ipynb\n",
    "\n",
    "---"
   ]
  },
  {
   "cell_type": "markdown",
   "id": "a02a7912-9c1c-4578-87a7-f33db3ea4a33",
   "metadata": {},
   "source": [
    "## 0.1 Loading modules"
   ]
  },
  {
   "cell_type": "code",
   "execution_count": null,
   "id": "fe4c4edd-2b08-4fef-9790-1f4e2700a295",
   "metadata": {
    "tags": []
   },
   "outputs": [],
   "source": [
    "# Installing Kaggle, if necessary\n",
    "!pip install -q kaggle"
   ]
  },
  {
   "cell_type": "code",
   "execution_count": null,
   "id": "f93f371e-a8c7-4cb0-8484-69b1b500b8ed",
   "metadata": {
    "tags": []
   },
   "outputs": [],
   "source": [
    "from pathlib import Path\n",
    "import shutil\n",
    "import os\n",
    "import tempfile\n",
    "import logging\n",
    "from zipfile import ZipFile\n",
    "from typing import Optional\n",
    "import pandas as pd\n",
    "\n",
    "logger = logging.getLogger(__name__)\n",
    "logging.basicConfig(level=logging.INFO)"
   ]
  },
  {
   "cell_type": "markdown",
   "id": "45189856-a823-4258-ab32-0ea46d55ed27",
   "metadata": {},
   "source": [
    "## 0. Defining utility functions\n",
    "\n",
    "Before we begin, we'll need to define some utility functions in order to\n",
    "not clutter the notebook."
   ]
  },
  {
   "cell_type": "code",
   "execution_count": null,
   "id": "c78c7fb7-9e71-4907-bd96-8611ced0c5bf",
   "metadata": {
    "tags": []
   },
   "outputs": [],
   "source": [
    "def create_temp_directory():\n",
    "    \"\"\"\n",
    "    Function to create a temporary directory.\n",
    "    \n",
    "    Returns\n",
    "    ---------\n",
    "    temp_dir : pathlib.Path\n",
    "        Path to the temporary directory\n",
    "    \"\"\"\n",
    "    # Defining a temporary directory\n",
    "    temp_dir = tempfile.mkdtemp()\n",
    "    Path(temp_dir).mkdir(exist_ok=True, parents=True)\n",
    "    \n",
    "    return Path(temp_dir).resolve()"
   ]
  },
  {
   "cell_type": "code",
   "execution_count": null,
   "id": "84ce2705-cf24-464b-9c08-01d34c641895",
   "metadata": {
    "tags": []
   },
   "outputs": [],
   "source": [
    "def run_system_command(cmd: str):\n",
    "    \"\"\"\n",
    "    Function to run a system command\n",
    "    \"\"\"\n",
    "    os.system(cmd)"
   ]
  },
  {
   "cell_type": "code",
   "execution_count": null,
   "id": "a66f7ede-0d39-4518-82a6-95cd19471713",
   "metadata": {
    "tags": []
   },
   "outputs": [],
   "source": [
    "def get_kaggle_credentials():\n",
    "    \"\"\"\n",
    "    Function to get the API credentials for interacting with Kaggle.\n",
    "    \"\"\"\n",
    "    # Determining which type of setting to use\n",
    "    try:\n",
    "        from google.colab import drive\n",
    "\n",
    "        COLAB_WORKSPACE = True\n",
    "    except:\n",
    "        COLAB_WORKSPACE = False\n",
    "    #\n",
    "    if COLAB_WORKSPACE:\n",
    "        # Asking the user to upload the `kaggle.json` credentials file\n",
    "        from google.colab import files\n",
    "\n",
    "        files.upload()\n",
    "        # Creating directory to place the credentials\n",
    "        kaggle_output_directory = Path(\"~/.kaggle\").resolve()\n",
    "        kaggle_output_directory.mkdir(exists=True, parents=True)\n",
    "        # Copying credentials to kaggle directory\n",
    "        kaggle_creds_output_filepath = kaggle_output_directory.joinpath(\n",
    "            \"kaggle.json\"\n",
    "        )\n",
    "        shutil.copy(\"./kaggle.json\", kaggle_creds_output_filepath)\n",
    "        # Changing the permissions of the file\n",
    "        kaggle_creds_output_filepath.chmod(600)\n"
   ]
  },
  {
   "cell_type": "code",
   "execution_count": null,
   "id": "dd789623-7652-4a6d-9025-af68f2844903",
   "metadata": {
    "tags": []
   },
   "outputs": [],
   "source": [
    "def get_kaggle_dataset_and_load(\n",
    "    username: str,\n",
    "    dataset_name: str,\n",
    "    extension: Optional[str] = \"csv\",\n",
    "    delete_file: Optional[bool] = False,\n",
    ") -> pd.DataFrame:\n",
    "    \"\"\"\n",
    "    Function to download a dataset from Kaggle.\n",
    "\n",
    "    Parameters\n",
    "    -----------\n",
    "    username : str\n",
    "        Username that owns the dataset.\n",
    "\n",
    "    dataset_name : str\n",
    "        Name of the dataset.\n",
    "\n",
    "    extension : str, optional\n",
    "        File extension of the uncompressed dataset.\n",
    "\n",
    "    delete_file : bool, optional\n",
    "        If ``True``, the uncompressed file will be deleted.\n",
    "        This variable is set to ``False`` by default.\n",
    "\n",
    "    Returns\n",
    "    ----------\n",
    "    dataset_df : pandas.DataFrame\n",
    "        Dataset from Kaggle\n",
    "    \"\"\"\n",
    "    # Creating temporary directory\n",
    "    temp_dir = create_temp_directory()\n",
    "    # Downloading the specified dataset\n",
    "    cmd = f\"kaggle datasets download {username}/{dataset_name}\"\n",
    "    logging.info(cmd)\n",
    "    run_system_command(cmd=cmd)\n",
    "    # Find the `.zip` file, move it to the temporary directory and unzip it\n",
    "    dataset_zip_filepath = list(Path(\".\").resolve().glob(\"*.zip\"))[0]\n",
    "    # Decompressing file\n",
    "    with ZipFile(str(dataset_zip_filepath), \"r\") as zfile:\n",
    "        zfile.extractall(path=temp_dir)\n",
    "\n",
    "    # Figuring out the path to the uncompressed file\n",
    "    dataset_filepath = list(temp_dir.rglob(f\"*.{extension}\"))[0]\n",
    "    logger.info(f\"Uncompressed dataset: `{dataset_filepath}` downloaded!\")\n",
    "\n",
    "    # Reading in data\n",
    "    read_func = {\n",
    "        \".csv\": pd.read_csv,\n",
    "        \".parquet\": pd.read_parquet,\n",
    "        \".json\": pd.read_json,\n",
    "    }\n",
    "\n",
    "    file_extension = dataset_filepath.suffix\n",
    "\n",
    "    dataset_df = read_func[file_extension](dataset_filepath)\n",
    "\n",
    "    # Deleting dataset\n",
    "    logger.info(f\"dataset_zip_filepath: {dataset_zip_filepath}\")\n",
    "    dataset_zip_filepath.unlink()\n",
    "\n",
    "    if delete_file:\n",
    "        dataset_filepath.unlink()\n",
    "\n",
    "    return dataset_df\n"
   ]
  },
  {
   "cell_type": "markdown",
   "id": "6766e7b0-acac-4da4-81d7-81acf03c4a84",
   "metadata": {},
   "source": [
    "---"
   ]
  },
  {
   "cell_type": "markdown",
   "id": "7e16281a-d5b5-49bb-a398-49ca4555dbd0",
   "metadata": {},
   "source": [
    "## 1. Downloading and loading the Kaggle dataset\n",
    "\n",
    "The first step is to download the Kaggle dataset. In order to do this, we will have to use the\n",
    "Kaggle API keys / credentials to download the Kaggle dataset directly."
   ]
  },
  {
   "cell_type": "code",
   "execution_count": null,
   "id": "542984d6-91ed-4c44-94c5-c9272b538eba",
   "metadata": {
    "tags": []
   },
   "outputs": [],
   "source": [
    "# Getting Kaggle Credentials\n",
    "get_kaggle_credentials()\n",
    "\n",
    "# Defining the username and name of the dataset\n",
    "KAGGLE_DATASET_USERNAME = \"crowdflower\"\n",
    "KAGGLE_DATASET_NAME = \"twitter-airline-sentiment\"\n",
    "\n",
    "dataset_df = get_kaggle_dataset_and_load(\n",
    "    username=KAGGLE_DATASET_USERNAME,\n",
    "    dataset_name=KAGGLE_DATASET_NAME,\n",
    ")\n"
   ]
  },
  {
   "cell_type": "code",
   "execution_count": null,
   "id": "020e61b2-e30b-42c3-b247-1df976eb6428",
   "metadata": {
    "tags": []
   },
   "outputs": [],
   "source": [
    "dataset_df.head()"
   ]
  },
  {
   "cell_type": "code",
   "execution_count": null,
   "id": "56037d5b-af4f-442c-ace8-4deaca2a9e89",
   "metadata": {},
   "outputs": [],
   "source": []
  }
 ],
 "metadata": {
  "kernelspec": {
   "display_name": "Python 3 (ipykernel)",
   "language": "python",
   "name": "python3"
  },
  "language_info": {
   "codemirror_mode": {
    "name": "ipython",
    "version": 3
   },
   "file_extension": ".py",
   "mimetype": "text/x-python",
   "name": "python",
   "nbconvert_exporter": "python",
   "pygments_lexer": "ipython3",
   "version": "3.9.16"
  }
 },
 "nbformat": 4,
 "nbformat_minor": 5
}
